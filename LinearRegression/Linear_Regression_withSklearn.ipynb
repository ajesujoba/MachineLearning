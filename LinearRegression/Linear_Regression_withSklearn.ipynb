{
 "cells": [
  {
   "cell_type": "code",
   "execution_count": 0,
   "metadata": {
    "colab": {},
    "colab_type": "code",
    "id": "4ERgqj1bTT5Z"
   },
   "outputs": [],
   "source": [
    "#import libraries\n",
    "import pandas as pd\n",
    "import numpy as np\n",
    "import matplotlib.pyplot as plt\n",
    "from sklearn.linear_model import LinearRegression\n",
    "from sklearn.model_selection import train_test_split\n",
    "from sklearn.metrics import mean_squared_error\n",
    "from sklearn.metrics import r2_score\n",
    "import statsmodels.api as sm"
   ]
  },
  {
   "cell_type": "markdown",
   "metadata": {
    "colab_type": "text",
    "id": "t8o8dFGOUaiR"
   },
   "source": [
    "To get the statsmodels to work had to do the following\n",
    "\n",
    "! pip install --upgrade Cython\n",
    "\n",
    "! pip install --upgrade git+https://github.com/statsmodels/statsmodels"
   ]
  },
  {
   "cell_type": "code",
   "execution_count": 0,
   "metadata": {
    "colab": {},
    "colab_type": "code",
    "id": "K1qNqCgbTT6C"
   },
   "outputs": [],
   "source": [
    "#read the dataset into a pandas dataframe \n",
    "data = pd.read_csv(\"Advertising.csv\")"
   ]
  },
  {
   "cell_type": "code",
   "execution_count": 0,
   "metadata": {
    "colab": {
     "base_uri": "https://localhost:8080/",
     "height": 143
    },
    "colab_type": "code",
    "id": "RURc5lXDTT6S",
    "outputId": "da8a479b-06a5-402d-fb70-540a3cf0dff5"
   },
   "outputs": [
    {
     "data": {
      "text/html": [
       "<div>\n",
       "<style scoped>\n",
       "    .dataframe tbody tr th:only-of-type {\n",
       "        vertical-align: middle;\n",
       "    }\n",
       "\n",
       "    .dataframe tbody tr th {\n",
       "        vertical-align: top;\n",
       "    }\n",
       "\n",
       "    .dataframe thead th {\n",
       "        text-align: right;\n",
       "    }\n",
       "</style>\n",
       "<table border=\"1\" class=\"dataframe\">\n",
       "  <thead>\n",
       "    <tr style=\"text-align: right;\">\n",
       "      <th></th>\n",
       "      <th>Unnamed: 0</th>\n",
       "      <th>TV</th>\n",
       "      <th>radio</th>\n",
       "      <th>newspaper</th>\n",
       "      <th>sales</th>\n",
       "    </tr>\n",
       "  </thead>\n",
       "  <tbody>\n",
       "    <tr>\n",
       "      <th>0</th>\n",
       "      <td>1</td>\n",
       "      <td>230.1</td>\n",
       "      <td>37.8</td>\n",
       "      <td>69.2</td>\n",
       "      <td>22.1</td>\n",
       "    </tr>\n",
       "    <tr>\n",
       "      <th>1</th>\n",
       "      <td>2</td>\n",
       "      <td>44.5</td>\n",
       "      <td>39.3</td>\n",
       "      <td>45.1</td>\n",
       "      <td>10.4</td>\n",
       "    </tr>\n",
       "    <tr>\n",
       "      <th>2</th>\n",
       "      <td>3</td>\n",
       "      <td>17.2</td>\n",
       "      <td>45.9</td>\n",
       "      <td>69.3</td>\n",
       "      <td>9.3</td>\n",
       "    </tr>\n",
       "  </tbody>\n",
       "</table>\n",
       "</div>"
      ],
      "text/plain": [
       "   Unnamed: 0     TV  radio  newspaper  sales\n",
       "0           1  230.1   37.8       69.2   22.1\n",
       "1           2   44.5   39.3       45.1   10.4\n",
       "2           3   17.2   45.9       69.3    9.3"
      ]
     },
     "execution_count": 7,
     "metadata": {
      "tags": []
     },
     "output_type": "execute_result"
    }
   ],
   "source": [
    "#view the head\n",
    "data.head(3)"
   ]
  },
  {
   "cell_type": "code",
   "execution_count": 0,
   "metadata": {
    "colab": {
     "base_uri": "https://localhost:8080/",
     "height": 34
    },
    "colab_type": "code",
    "id": "e_6PPB1wTT6p",
    "outputId": "f361096e-c2c0-4fcf-d772-bab1b3124663"
   },
   "outputs": [
    {
     "data": {
      "text/plain": [
       "Index(['Unnamed: 0', 'TV', 'radio', 'newspaper', 'sales'], dtype='object')"
      ]
     },
     "execution_count": 8,
     "metadata": {
      "tags": []
     },
     "output_type": "execute_result"
    }
   ],
   "source": [
    "#get the column names from the dataframe created from the dataset\n",
    "data.columns"
   ]
  },
  {
   "cell_type": "code",
   "execution_count": 0,
   "metadata": {
    "colab": {},
    "colab_type": "code",
    "id": "IESQkgyZTT64",
    "scrolled": true
   },
   "outputs": [],
   "source": [
    "#delete the first column\n",
    "data=data.drop(['Unnamed: 0'], axis=1)"
   ]
  },
  {
   "cell_type": "code",
   "execution_count": 0,
   "metadata": {
    "colab": {
     "base_uri": "https://localhost:8080/",
     "height": 34
    },
    "colab_type": "code",
    "id": "9vwq2ZAoVvOr",
    "outputId": "20c791bc-4b59-4f7a-d713-ecf7ed95f593"
   },
   "outputs": [
    {
     "data": {
      "text/plain": [
       "(200, 4)"
      ]
     },
     "execution_count": 16,
     "metadata": {
      "tags": []
     },
     "output_type": "execute_result"
    }
   ],
   "source": [
    "#view the shape of the dataset  'ndim' can be used to get the number of dimension in the dataset\n",
    "data.shape"
   ]
  },
  {
   "cell_type": "code",
   "execution_count": 0,
   "metadata": {
    "colab": {
     "base_uri": "https://localhost:8080/",
     "height": 173
    },
    "colab_type": "code",
    "id": "65x9GV60WUEz",
    "outputId": "9542b0cc-6514-4583-aa07-82deb029f539"
   },
   "outputs": [
    {
     "data": {
      "text/plain": [
       "count    200.000000\n",
       "mean      14.022500\n",
       "std        5.217457\n",
       "min        1.600000\n",
       "25%       10.375000\n",
       "50%       12.900000\n",
       "75%       17.400000\n",
       "max       27.000000\n",
       "Name: sales, dtype: float64"
      ]
     },
     "execution_count": 17,
     "metadata": {
      "tags": []
     },
     "output_type": "execute_result"
    }
   ],
   "source": [
    "data['sales'].describe()"
   ]
  },
  {
   "cell_type": "markdown",
   "metadata": {
    "colab_type": "text",
    "id": "WJPfTHRhTT7I"
   },
   "source": [
    "## Simple linear regression "
   ]
  },
  {
   "cell_type": "code",
   "execution_count": 0,
   "metadata": {
    "colab": {
     "base_uri": "https://localhost:8080/",
     "height": 500
    },
    "colab_type": "code",
    "id": "A1a1HDI2TT7M",
    "outputId": "b39b3daf-0806-4836-bd64-4469627755ba"
   },
   "outputs": [
    {
     "data": {
      "image/png": "[encoded data removed]",
      "text/plain": [
       "<Figure size 1152x576 with 1 Axes>"
      ]
     },
     "metadata": {
      "tags": []
     },
     "output_type": "display_data"
    }
   ],
   "source": [
    "#plot the current dataset\n",
    "plt.figure(figsize=(16, 8))\n",
    "plt.scatter(\n",
    "    data['TV'],\n",
    "    data['sales'],\n",
    "    c='black'\n",
    ")\n",
    "plt.xlabel(\"Money spent on TV ads ($)\")\n",
    "plt.ylabel(\"Sales ($)\")\n",
    "plt.show()"
   ]
  },
  {
   "cell_type": "code",
   "execution_count": 0,
   "metadata": {
    "colab": {},
    "colab_type": "code",
    "id": "hejDT0TQTT7c"
   },
   "outputs": [],
   "source": [
    "#reshape the data for the linear regression fit\n",
    "X = data['TV'].values.reshape(-1,1)\n",
    "y = data['sales'].values.reshape(-1,1)"
   ]
  },
  {
   "cell_type": "code",
   "execution_count": 0,
   "metadata": {
    "colab": {},
    "colab_type": "code",
    "id": "1WqiRK3ZZ518"
   },
   "outputs": [],
   "source": [
    "#split the data set into training and testing set the test size id 30% of the whole data and the data should be splitted randomly\n",
    "X_train,X_test,y_train,y_test=train_test_split(X,y, test_size=0.3, random_state=31)"
   ]
  },
  {
   "cell_type": "code",
   "execution_count": 0,
   "metadata": {
    "colab": {},
    "colab_type": "code",
    "id": "xFOdfBKDdKBO"
   },
   "outputs": [],
   "source": [
    "#plot the training split\n",
    "plt.figure(figsize=(16, 8))\n",
    "plt.scatter(\n",
    "    X_train,\n",
    "    y_train,\n",
    "    c='black'\n",
    ")\n",
    "plt.xlabel(\"Money spent on TV ads ($)\")\n",
    "plt.ylabel(\"Sales ($)\")\n",
    "plt.show()"
   ]
  },
  {
   "cell_type": "code",
   "execution_count": 0,
   "metadata": {
    "colab": {
     "base_uri": "https://localhost:8080/",
     "height": 34
    },
    "colab_type": "code",
    "id": "3zJRi22VaEW4",
    "outputId": "c3dbb2d3-6cf3-48f3-a976-4aed322424eb"
   },
   "outputs": [
    {
     "data": {
      "text/plain": [
       "LinearRegression(copy_X=True, fit_intercept=True, n_jobs=None, normalize=False)"
      ]
     },
     "execution_count": 26,
     "metadata": {
      "tags": []
     },
     "output_type": "execute_result"
    }
   ],
   "source": [
    "#create an object of Linear regression and fit a model\n",
    "reg = LinearRegression()\n",
    "reg.fit(X_train, y_train)"
   ]
  },
  {
   "cell_type": "code",
   "execution_count": 0,
   "metadata": {
    "colab": {
     "base_uri": "https://localhost:8080/",
     "height": 69
    },
    "colab_type": "code",
    "id": "vD1mORcOTT7y",
    "outputId": "41460885-647d-41c7-de71-d9fd40c3a430"
   },
   "outputs": [
    {
     "name": "stdout",
     "output_type": "stream",
     "text": [
      "0.04875084143240082\n",
      "6.789765097543871\n",
      "The linear model is: Y = 6.7898 + 0.048751X\n"
     ]
    }
   ],
   "source": [
    "print(reg.coef_[0][0])\n",
    "print(reg.intercept_[0])\n",
    "\n",
    "print(\"The linear model is: Y = {:.5} + {:.5}X\".format(reg.intercept_[0], reg.coef_[0][0]))"
   ]
  },
  {
   "cell_type": "code",
   "execution_count": 0,
   "metadata": {
    "colab": {},
    "colab_type": "code",
    "id": "EcQELs0UfZ9N"
   },
   "outputs": [],
   "source": [
    "#get the values fit for each of the training point\n",
    "predictions = reg.predict(X_train)"
   ]
  },
  {
   "cell_type": "code",
   "execution_count": 0,
   "metadata": {
    "colab": {
     "base_uri": "https://localhost:8080/",
     "height": 500
    },
    "colab_type": "code",
    "id": "FDi58kfGTT8O",
    "outputId": "7bd8662d-951e-406f-d60c-a491e3580b62"
   },
   "outputs": [
    {
     "data": {
      "image/png": "[encoded data removed]",
      "text/plain": [
       "<Figure size 1152x576 with 1 Axes>"
      ]
     },
     "metadata": {
      "tags": []
     },
     "output_type": "display_data"
    }
   ],
   "source": [
    "#plot the training set and plot the fits\n",
    "\n",
    "plt.figure(figsize=(16, 8))\n",
    "plt.scatter(\n",
    "    X_train,\n",
    "    y_train,\n",
    "    c='black'\n",
    ")\n",
    "plt.plot(\n",
    "    X_train,\n",
    "    predictions,\n",
    "    c='red',\n",
    "    linewidth=2\n",
    ")\n",
    "plt.xlabel(\"Money spent on TV ads ($)\")\n",
    "plt.ylabel(\"Sales ($)\")\n",
    "plt.show()"
   ]
  },
  {
   "cell_type": "code",
   "execution_count": 0,
   "metadata": {
    "colab": {
     "base_uri": "https://localhost:8080/",
     "height": 52
    },
    "colab_type": "code",
    "id": "3Qvx8s5gh80t",
    "outputId": "858a8b2b-566b-4bfc-8855-b9fbcaf6e15c"
   },
   "outputs": [
    {
     "name": "stdout",
     "output_type": "stream",
     "text": [
      "Mean square error on the training set =  10.00460479254584\n",
      "Mean square error on the test set =  11.74791738243432\n"
     ]
    }
   ],
   "source": [
    "#print training error and test error\n",
    "print(\"Mean square error on the training set = \", str(mean_squared_error(y_train, predictions)))\n",
    "print(\"Mean square error on the test set = \", str(mean_squared_error(y_test, reg.predict(X_test))))\n",
    "#train_score=lr.score(X_train, y_train)\n",
    "#test_score=lr.score(X_test, y_test)"
   ]
  },
  {
   "cell_type": "code",
   "execution_count": 0,
   "metadata": {
    "colab": {
     "base_uri": "https://localhost:8080/",
     "height": 451
    },
    "colab_type": "code",
    "id": "SMuGjR3YhmEN",
    "outputId": "bd2f4802-8fd3-4e74-9f2d-aaa63db7c77f"
   },
   "outputs": [
    {
     "name": "stdout",
     "output_type": "stream",
     "text": [
      "                            OLS Regression Results                            \n",
      "==============================================================================\n",
      "Dep. Variable:                      y   R-squared:                       0.629\n",
      "Model:                            OLS   Adj. R-squared:                  0.626\n",
      "Method:                 Least Squares   F-statistic:                     233.6\n",
      "Date:                Sun, 09 Jun 2019   Prob (F-statistic):           1.75e-31\n",
      "Time:                        18:45:19   Log-Likelihood:                -359.86\n",
      "No. Observations:                 140   AIC:                             723.7\n",
      "Df Residuals:                     138   BIC:                             729.6\n",
      "Df Model:                           1                                         \n",
      "Covariance Type:            nonrobust                                         \n",
      "==============================================================================\n",
      "                 coef    std err          t      P>|t|      [0.025      0.975]\n",
      "------------------------------------------------------------------------------\n",
      "const          6.7898      0.522     13.011      0.000       5.758       7.822\n",
      "x1             0.0488      0.003     15.285      0.000       0.042       0.055\n",
      "==============================================================================\n",
      "Omnibus:                        1.711   Durbin-Watson:                   1.875\n",
      "Prob(Omnibus):                  0.425   Jarque-Bera (JB):                1.524\n",
      "Skew:                          -0.256   Prob(JB):                        0.467\n",
      "Kurtosis:                       3.003   Cond. No.                         317.\n",
      "==============================================================================\n",
      "\n",
      "Warnings:\n",
      "[1] Standard Errors assume that the covariance matrix of the errors is correctly specified.\n"
     ]
    }
   ],
   "source": [
    "#use statistics summary on the training set and print summary\n",
    "X2 = sm.add_constant(X_train)\n",
    "est = sm.OLS(y_train, X2)\n",
    "est2 = est.fit()\n",
    "print(est2.summary())"
   ]
  },
  {
   "cell_type": "markdown",
   "metadata": {
    "colab_type": "text",
    "id": "RI8X7av0ke4a"
   },
   "source": [
    "#Regularization to prevent overfitting  (used both Lasso and Ridge)"
   ]
  },
  {
   "cell_type": "code",
   "execution_count": 0,
   "metadata": {
    "colab": {
     "base_uri": "https://localhost:8080/",
     "height": 34
    },
    "colab_type": "code",
    "id": "NNWmn46Akeg4",
    "outputId": "58f1bf68-f735-41a1-9a8c-27e6694452ee"
   },
   "outputs": [
    {
     "data": {
      "text/plain": [
       "9295.0"
      ]
     },
     "execution_count": 115,
     "metadata": {
      "tags": []
     },
     "output_type": "execute_result"
    }
   ],
   "source": [
    "#Ridge regression\n",
    "from sklearn.linear_model import RidgeCV\n",
    "ridgeRegCv = RidgeCV(alphas=[0.01,0.02,0.03,1.0,10.0,15.0,20.0,25.0,30.0,35.0,100,9295]) # higher the alpha value, more restriction on the coefficients; low alpha > more generalization, coefficients are barely\n",
    "# restricted and in this case linear and ridge regression resembles\n",
    "ridgeRegCv.fit(X_train, y_train)\n",
    "#get the best alpha\n",
    "ridgeRegCv.alpha_\n",
    "\n",
    "\n",
    "# we could use, but we want to pick best alpha from sklearn.linear_model import Ridge\n",
    "#rr = Ridge(alpha=0.01) # higher the alpha value, more restriction on the coefficients; low alpha > more generalization, coefficients are barely\n",
    "#rr.fit(X_train, y_train)\n"
   ]
  },
  {
   "cell_type": "code",
   "execution_count": 0,
   "metadata": {
    "colab": {
     "base_uri": "https://localhost:8080/",
     "height": 69
    },
    "colab_type": "code",
    "id": "3S3jIPJaRfPM",
    "outputId": "ec838033-4ad1-4912-c77e-4568dd3f3f17"
   },
   "outputs": [
    {
     "name": "stdout",
     "output_type": "stream",
     "text": [
      "0.04830087335124939\n",
      "6.852834230826916\n",
      "The linear model is: Y = 6.8528 + 0.048301X\n"
     ]
    }
   ],
   "source": [
    "#print the coefficients of the ridge ression\n",
    "print(ridgeRegCv.coef_[0][0])\n",
    "print(ridgeRegCv.intercept_[0])\n",
    "print(\"The linear model is: Y = {:.5} + {:.5}X\".format(ridgeRegCv.intercept_[0], ridgeRegCv.coef_[0][0]))"
   ]
  },
  {
   "cell_type": "code",
   "execution_count": 0,
   "metadata": {
    "colab": {},
    "colab_type": "code",
    "id": "udfBkTaanvAS"
   },
   "outputs": [],
   "source": [
    "#get the values fit for each of the training point\n",
    "ridgePredictn = ridgeRegCv.predict(X_train)"
   ]
  },
  {
   "cell_type": "code",
   "execution_count": 0,
   "metadata": {
    "colab": {
     "base_uri": "https://localhost:8080/",
     "height": 500
    },
    "colab_type": "code",
    "id": "nrhbfh6Vn9U8",
    "outputId": "585f6cd3-1c86-44ed-b4c1-b5fb4bb4669c"
   },
   "outputs": [
    {
     "data": {
      "image/png": "[encoded data removed]",
      "text/plain": [
       "<Figure size 1152x576 with 1 Axes>"
      ]
     },
     "metadata": {
      "tags": []
     },
     "output_type": "display_data"
    }
   ],
   "source": [
    "#plot the training set and plot the fits\n",
    "\n",
    "plt.figure(figsize=(16, 8))\n",
    "plt.scatter(\n",
    "    X_train,\n",
    "    y_train,\n",
    "    c='black'\n",
    ")\n",
    "plt.plot(\n",
    "    X_train,\n",
    "    ridgePredictn,\n",
    "    c='red',\n",
    "    linewidth=2\n",
    ")\n",
    "plt.xlabel(\"Money spent on TV ads ($)\")\n",
    "plt.ylabel(\"Sales ($)\")\n",
    "plt.show()"
   ]
  },
  {
   "cell_type": "code",
   "execution_count": 0,
   "metadata": {
    "colab": {
     "base_uri": "https://localhost:8080/",
     "height": 52
    },
    "colab_type": "code",
    "id": "EuriZ0LXoLo6",
    "outputId": "0cc6463f-cd98-465a-f3f7-b8d9ac4b48f5"
   },
   "outputs": [
    {
     "name": "stdout",
     "output_type": "stream",
     "text": [
      "Mean square error on the training set using ridge regression =  10.006047765030342\n",
      "Mean square error on the test set using  ridge regression =  11.724145523230723\n"
     ]
    }
   ],
   "source": [
    "#print training error and test error\n",
    "print(\"Mean square error on the training set using ridge regression = \", str(mean_squared_error(y_train, ridgePredictn)))\n",
    "print(\"Mean square error on the test set using  ridge regression = \", str(mean_squared_error(y_test, ridgeRegCv.predict(X_test))))\n",
    "#train_score=lr.score(X_train, y_train)\n",
    "#test_score=lr.score(X_test, y_test)"
   ]
  },
  {
   "cell_type": "code",
   "execution_count": 0,
   "metadata": {
    "colab": {
     "base_uri": "https://localhost:8080/",
     "height": 69
    },
    "colab_type": "code",
    "id": "yfhGNGqdR-9d",
    "outputId": "0af7ebb3-5733-41f3-8311-104ef4507e98"
   },
   "outputs": [
    {
     "data": {
      "text/plain": [
       "Lasso(alpha=0.06, copy_X=True, fit_intercept=True, max_iter=1000,\n",
       "      normalize=False, positive=False, precompute=False, random_state=None,\n",
       "      selection='cyclic', tol=0.0001, warm_start=False)"
      ]
     },
     "execution_count": 143,
     "metadata": {
      "tags": []
     },
     "output_type": "execute_result"
    }
   ],
   "source": [
    "#Lasso regression\n",
    "from sklearn.linear_model import Lasso\n",
    "lasso = Lasso(alpha=0.06)\n",
    "lasso.fit(X_train,y_train)\n",
    "#train_score=lasso.score(X_train,y_train)\n",
    "#test_score=lasso.score(X_test,y_test)\n",
    "#coeff_used = np.sum(lasso.coef_!=0)"
   ]
  },
  {
   "cell_type": "code",
   "execution_count": 0,
   "metadata": {
    "colab": {
     "base_uri": "https://localhost:8080/",
     "height": 69
    },
    "colab_type": "code",
    "id": "r74jgiVErDjo",
    "outputId": "79e864ed-db5b-4fba-de20-c8aeb32f4cb5"
   },
   "outputs": [
    {
     "name": "stdout",
     "output_type": "stream",
     "text": [
      "0.04874242250787263\n",
      "6.790945124073329\n",
      "The linear model is: Y = 6.7909 + 0.048749X\n"
     ]
    }
   ],
   "source": [
    "#print the coefficients of the lasso ression\n",
    "print(lasso.coef_[0])\n",
    "print(lasso.intercept_[0])\n",
    "print(\"The linear model is: Y = {:.5} + {:.5}X\".format(lasso.intercept_[0], lassoRegCv.coef_[0]))"
   ]
  },
  {
   "cell_type": "code",
   "execution_count": 0,
   "metadata": {
    "colab": {
     "base_uri": "https://localhost:8080/",
     "height": 52
    },
    "colab_type": "code",
    "id": "7x4EPfTyTT8o",
    "outputId": "737200eb-1a6e-4700-f947-50758eb9ab0a"
   },
   "outputs": [
    {
     "name": "stdout",
     "output_type": "stream",
     "text": [
      "Mean square error on the training set using lasso regression =  10.00460529768131\n",
      "Mean square error on the test set using  lasso regression =  11.747442961873405\n"
     ]
    }
   ],
   "source": [
    "#get the values fit for each of the training point\n",
    "lassoPredictn = lasso.predict(X_train)\n",
    "#print training error and test error\n",
    "print(\"Mean square error on the training set using lasso regression = \", str(mean_squared_error(y_train, lassoPredictn)))\n",
    "print(\"Mean square error on the test set using  lasso regression = \", str(mean_squared_error(y_test, lasso.predict(X_test))))"
   ]
  },
  {
   "cell_type": "markdown",
   "metadata": {
    "colab_type": "text",
    "id": "SreJp-ojTT87"
   },
   "source": [
    "# Multiple ordinary linear regression "
   ]
  },
  {
   "cell_type": "code",
   "execution_count": 0,
   "metadata": {
    "colab": {},
    "colab_type": "code",
    "id": "FB-8rOCJTT8-"
   },
   "outputs": [],
   "source": [
    "Xs = data.drop(['sales', 'Unnamed: 0'], axis=1)\n",
    "y = data['sales'].values.reshape(-1,1)"
   ]
  },
  {
   "cell_type": "code",
   "execution_count": 0,
   "metadata": {
    "colab": {},
    "colab_type": "code",
    "id": "fGxT2rokvE0T"
   },
   "outputs": [],
   "source": [
    "#split the data set into training and testing set the test size id 30% of the whole data and the data should be splitted randomly\n",
    "X_train,X_test,y_train,y_test=train_test_split(Xs,y, test_size=0.3, random_state=31)"
   ]
  },
  {
   "cell_type": "code",
   "execution_count": 0,
   "metadata": {
    "colab": {
     "base_uri": "https://localhost:8080/",
     "height": 34
    },
    "colab_type": "code",
    "id": "UHOtlkHHu6Xz",
    "outputId": "2a8cb207-5741-447d-f99c-4c972f2cb339"
   },
   "outputs": [
    {
     "data": {
      "text/plain": [
       "LinearRegression(copy_X=True, fit_intercept=True, n_jobs=None, normalize=False)"
      ]
     },
     "execution_count": 151,
     "metadata": {
      "tags": []
     },
     "output_type": "execute_result"
    }
   ],
   "source": [
    "reg = LinearRegression()\n",
    "reg.fit(X_train, y_train)"
   ]
  },
  {
   "cell_type": "code",
   "execution_count": 0,
   "metadata": {
    "colab": {
     "base_uri": "https://localhost:8080/",
     "height": 52
    },
    "colab_type": "code",
    "id": "hQCk1GjjTT9N",
    "outputId": "19e0adfb-e6f2-4f40-d6bf-15b60af1a02f"
   },
   "outputs": [
    {
     "name": "stdout",
     "output_type": "stream",
     "text": [
      "[[0.04641035 0.1776423  0.00169583]]\n",
      "[3.0421146]\n"
     ]
    }
   ],
   "source": [
    "print(reg.coef_)\n",
    "print(reg.intercept_)"
   ]
  },
  {
   "cell_type": "code",
   "execution_count": 0,
   "metadata": {
    "colab": {
     "base_uri": "https://localhost:8080/",
     "height": 34
    },
    "colab_type": "code",
    "id": "iq99VKHlTT9c",
    "outputId": "fae765a9-ecde-4838-9c75-20a78e0aa7e3"
   },
   "outputs": [
    {
     "name": "stdout",
     "output_type": "stream",
     "text": [
      "The linear model is: Y = 3.0421 + 0.04641*TV + 0.17764*radio + 0.0016958*newspaper\n"
     ]
    }
   ],
   "source": [
    "print(\"The linear model is: Y = {:.5} + {:.5}*TV + {:.5}*radio + {:.5}*newspaper\".format(reg.intercept_[0], reg.coef_[0][0], reg.coef_[0][1], reg.coef_[0][2]))"
   ]
  },
  {
   "cell_type": "code",
   "execution_count": 0,
   "metadata": {
    "colab": {
     "base_uri": "https://localhost:8080/",
     "height": 52
    },
    "colab_type": "code",
    "id": "K8JUBixuvegM",
    "outputId": "e5ddddfa-0a30-4fe0-da5a-5fd7d6362042"
   },
   "outputs": [
    {
     "name": "stdout",
     "output_type": "stream",
     "text": [
      "Mean square error on the training set =  3.0353785403255316\n",
      "Mean square error on the test set =  2.2845483088592804\n"
     ]
    }
   ],
   "source": [
    "#print training error and test error\n",
    "print(\"Mean square error on the training set = \", str(mean_squared_error(y_train, reg.predict(X_train))))\n",
    "print(\"Mean square error on the test set = \", str(mean_squared_error(y_test, reg.predict(X_test))))\n"
   ]
  },
  {
   "cell_type": "code",
   "execution_count": 0,
   "metadata": {
    "colab": {},
    "colab_type": "code",
    "id": "Qi1nIVVqTT9s",
    "outputId": "82b4101a-d020-4ed8-a8ec-857600a58e30"
   },
   "outputs": [
    {
     "data": {
      "text/plain": [
       "0.8972106381789521"
      ]
     },
     "execution_count": 14,
     "metadata": {
      "tags": []
     },
     "output_type": "execute_result"
    }
   ],
   "source": [
    "reg.score(Xs, y)"
   ]
  },
  {
   "cell_type": "code",
   "execution_count": 0,
   "metadata": {
    "colab": {
     "base_uri": "https://localhost:8080/",
     "height": 486
    },
    "colab_type": "code",
    "id": "ZTH7uRU8TT9_",
    "outputId": "d55fe61c-b5c1-4122-d469-73205b5e0eb3"
   },
   "outputs": [
    {
     "name": "stdout",
     "output_type": "stream",
     "text": [
      "                            OLS Regression Results                            \n",
      "==============================================================================\n",
      "Dep. Variable:                      y   R-squared:                       0.887\n",
      "Model:                            OLS   Adj. R-squared:                  0.885\n",
      "Method:                 Least Squares   F-statistic:                     357.1\n",
      "Date:                Sun, 09 Jun 2019   Prob (F-statistic):           2.93e-64\n",
      "Time:                        19:38:09   Log-Likelihood:                -276.37\n",
      "No. Observations:                 140   AIC:                             560.7\n",
      "Df Residuals:                     136   BIC:                             572.5\n",
      "Df Model:                           3                                         \n",
      "Covariance Type:            nonrobust                                         \n",
      "==============================================================================\n",
      "                 coef    std err          t      P>|t|      [0.025      0.975]\n",
      "------------------------------------------------------------------------------\n",
      "const          3.0421      0.374      8.134      0.000       2.303       3.782\n",
      "x1             0.0464      0.002     26.073      0.000       0.043       0.050\n",
      "x2             0.1776      0.011     16.200      0.000       0.156       0.199\n",
      "x3             0.0017      0.007      0.233      0.816      -0.013       0.016\n",
      "==============================================================================\n",
      "Omnibus:                       51.938   Durbin-Watson:                   1.687\n",
      "Prob(Omnibus):                  0.000   Jarque-Bera (JB):              126.836\n",
      "Skew:                          -1.531   Prob(JB):                     2.87e-28\n",
      "Kurtosis:                       6.517   Cond. No.                         419.\n",
      "==============================================================================\n",
      "\n",
      "Warnings:\n",
      "[1] Standard Errors assume that the covariance matrix of the errors is correctly specified.\n"
     ]
    }
   ],
   "source": [
    "X = np.column_stack((X_train['TV'], X_train['radio'], X_train['newspaper']))\n",
    "y = y_train\n",
    "\n",
    "X2 = sm.add_constant(X)\n",
    "est = sm.OLS(y, X2)\n",
    "est2 = est.fit()\n",
    "print(est2.summary())"
   ]
  },
  {
   "cell_type": "markdown",
   "metadata": {
    "colab_type": "text",
    "id": "YahAh0rLuLCj"
   },
   "source": [
    "ridge and lasso also follows from the process described above"
   ]
  },
  {
   "cell_type": "markdown",
   "metadata": {
    "colab_type": "text",
    "id": "LNEMXacBVeyX"
   },
   "source": [
    "I acknowledge and recommend the following writeups for a good understanding of the ideas :\n",
    "\n",
    "https://towardsdatascience.com/linear-regression-python-implementation-ae0d95348ac4\n",
    "\n",
    "https://towardsdatascience.com/ridge-and-lasso-regression-a-complete-guide-with-python-scikit-learn-e20e34bcbf0b\n",
    "\n",
    "https://towardsdatascience.com/ridge-and-lasso-regression-a-complete-guide-with-python-scikit-learn-e20e34bcbf0b"
   ]
  }
 ],
 "metadata": {
  "colab": {
   "collapsed_sections": [],
   "name": "Linear_Regression_withSklearn.ipynb",
   "provenance": [],
   "version": "0.3.2"
  },
  "kernelspec": {
   "display_name": "Python 3",
   "language": "python",
   "name": "python3"
  },
  "language_info": {
   "codemirror_mode": {
    "name": "ipython",
    "version": 3
   },
   "file_extension": ".py",
   "mimetype": "text/x-python",
   "name": "python",
   "nbconvert_exporter": "python",
   "pygments_lexer": "ipython3",
   "version": "3.7.1"
  }
 },
 "nbformat": 4,
 "nbformat_minor": 1
}
