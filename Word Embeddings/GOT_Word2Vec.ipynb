{
 "cells": [
  {
   "cell_type": "markdown",
   "metadata": {
    "colab_type": "text",
    "id": "l4edTto3GOty"
   },
   "source": [
    "## Word Embeddings\n",
    "\n",
    "Word embeddings - training, usage and visualization\n"
   ]
  },
  {
   "cell_type": "markdown",
   "metadata": {
    "colab_type": "text",
    "id": "Si5y4FicGOt9"
   },
   "source": [
    "#### Packages\n",
    "\n",
    "`gensim` was used for word embeddings and `nltk` for some data processing tasks. Also a logger, `matplotlib` for visualisation and `sklearn` for representations."
   ]
  },
  {
   "cell_type": "code",
   "execution_count": 0,
   "metadata": {
    "colab": {},
    "colab_type": "code",
    "id": "dsGhUKMtGOuD"
   },
   "outputs": [],
   "source": [
    "# import libraries and set up logging\n",
    "import gensim \n",
    "import nltk\n",
    "import logging\n",
    "import numpy as np\n",
    "import tensorflow as tf\n",
    "import warnings\n",
    "warnings.filterwarnings(\"ignore\")\n",
    "\n",
    "logging.basicConfig(format='%(asctime)s : %(levelname)s : %(message)s', level=logging.INFO)\n"
   ]
  },
  {
   "cell_type": "markdown",
   "metadata": {
    "colab_type": "text",
    "id": "zlFW660eGOuZ"
   },
   "source": [
    "##### Dataset: Game of Thrones books\n",
    "\n",
    "The data used is five volumes of Game of Thrones downloaded from\n",
    "https://github.com/nihitx/game-of-thrones- \n",
    "\n",
    "Basic data cleaning was applied on the raw data to speed up the process."
   ]
  },
  {
   "cell_type": "code",
   "execution_count": 120,
   "metadata": {
    "colab": {
     "base_uri": "https://localhost:8080/",
     "height": 34
    },
    "colab_type": "code",
    "id": "dj-HMzoXGOuf",
    "outputId": "5a87d85f-94b9-4dcb-d837-71c4725b1af1"
   },
   "outputs": [
    {
     "name": "stdout",
     "output_type": "stream",
     "text": [
      "b'\"We should start back,\" Gared urged as the woods began to grow dark around them. \"The wildlings are dead.\"\\n'\n"
     ]
    }
   ],
   "source": [
    "# Open the file and print the first line\n",
    "dataFile=\"got/got.5books.clean.txt\"\n",
    "\n",
    "with open (dataFile, 'rb') as f:\n",
    "    for i,line in enumerate (f):\n",
    "        print(line)\n",
    "        break\n"
   ]
  },
  {
   "cell_type": "markdown",
   "metadata": {
    "colab_type": "text",
    "id": "yt-iUM_BGOu4"
   },
   "source": [
    "#### Read files into a list `gensim.utils.simple_preprocess(sentence)`\n",
    "\n",
    "\n"
   ]
  },
  {
   "cell_type": "code",
   "execution_count": 121,
   "metadata": {
    "colab": {
     "base_uri": "https://localhost:8080/",
     "height": 54
    },
    "colab_type": "code",
    "id": "EKrmSHMQGOu9",
    "outputId": "190b2730-8764-40cf-8fc1-d428eb7bf7c1"
   },
   "outputs": [
    {
     "name": "stdout",
     "output_type": "stream",
     "text": [
      "['gared', 'did', 'not', 'rise', 'to', 'the', 'bait', 'he', 'was', 'an', 'old', 'man', 'past', 'fifty', 'and', 'he', 'had', 'seen', 'the', 'lordlings', 'come', 'and', 'go', 'dead', 'is', 'dead', 'he', 'said', 'we', 'have', 'no', 'business', 'with', 'the', 'dead']\n"
     ]
    }
   ],
   "source": [
    "# Write a function `readInput(inputFile)` that reads a file and applies the `simple_preprocess`\n",
    "def readInput(inputFile):\n",
    "    \"\"\"Method to read the input file\"\"\"\n",
    "    \n",
    "    logging.info(\"reading file {0}...this may take a while if the file is big\".format(inputFile))    \n",
    "    with open (inputFile, 'rb') as f:\n",
    "        for i, line in enumerate (f): \n",
    "            if (i%10000==0):\n",
    "                logging.info (\"read {0} lines\".format (i))\n",
    "            yield gensim.utils.simple_preprocess(line)\n",
    "\n",
    "# read the tokenized file into a list (sentences) of lists (tokens) named `sentences`\n",
    "sentences = list(readInput (dataFile))\n",
    "logging.info (\"Done reading data file\")  \n",
    "\n",
    "# print some examples\n",
    "print(sentences[2])"
   ]
  },
  {
   "cell_type": "code",
   "execution_count": 122,
   "metadata": {
    "colab": {
     "base_uri": "https://localhost:8080/",
     "height": 54
    },
    "colab_type": "code",
    "id": "6wOjoMwNPv6n",
    "outputId": "f4481514-36f4-4bef-bbce-833ed746ec5b"
   },
   "outputs": [
    {
     "name": "stdout",
     "output_type": "stream",
     "text": [
      "[['we', 'should', 'start', 'back', 'gared', 'urged', 'as', 'the', 'woods', 'began', 'to', 'grow', 'dark', 'around', 'them', 'the', 'wildlings', 'are', 'dead'], ['do', 'the', 'dead', 'frighten', 'you', 'ser', 'waymar', 'royce', 'asked', 'with', 'just', 'the', 'hint', 'of', 'smile'], ['gared', 'did', 'not', 'rise', 'to', 'the', 'bait', 'he', 'was', 'an', 'old', 'man', 'past', 'fifty', 'and', 'he', 'had', 'seen', 'the', 'lordlings', 'come', 'and', 'go', 'dead', 'is', 'dead', 'he', 'said', 'we', 'have', 'no', 'business', 'with', 'the', 'dead'], ['are', 'they', 'dead', 'royce', 'asked', 'softly', 'what', 'proof', 'have', 'we'], ['will', 'saw', 'them', 'gared', 'said', 'if', 'he', 'says', 'they', 'are', 'dead', 'that', 'proof', 'enough', 'for', 'me'], ['will', 'had', 'known', 'they', 'would', 'drag', 'him', 'into', 'the', 'quarrel', 'sooner', 'or', 'later', 'he', 'wished', 'it', 'had', 'been', 'later', 'rather', 'than', 'sooner', 'my', 'mother', 'told', 'me', 'that', 'dead', 'men', 'sing', 'no', 'songs', 'he', 'put', 'in'], ['my', 'wet', 'nurse', 'said', 'the', 'same', 'thing', 'will', 'royce', 'replied', 'never', 'believe', 'anything', 'you', 'hear', 'at', 'woman', 'tit', 'there', 'are', 'things', 'to', 'be', 'learned', 'even', 'from', 'the', 'dead', 'his', 'voice', 'echoed', 'too', 'loud', 'in', 'the', 'twilit', 'forest'], ['we', 'have', 'long', 'ride', 'before', 'us', 'gared', 'pointed', 'out', 'eight', 'days', 'maybe', 'nine', 'and', 'night', 'is', 'falling'], ['ser', 'waymar', 'royce', 'glanced', 'at', 'the', 'sky', 'with', 'disinterest', 'it', 'does', 'that', 'every', 'day', 'about', 'this', 'time', 'are', 'you', 'unmanned', 'by', 'the', 'dark', 'gared'], ['will', 'could', 'see', 'the', 'tightness', 'around', 'gared', 'mouth', 'the', 'barely', 'suppressed', 'anger', 'in', 'his', 'eyes', 'under', 'the', 'thick', 'black', 'hood', 'of', 'his', 'cloak', 'gared', 'had', 'spent', 'forty', 'years', 'in', 'the', 'night', 'watch', 'man', 'and', 'boy', 'and', 'he', 'was', 'not', 'accustomed', 'to', 'being', 'made', 'light', 'of', 'yet', 'it', 'was', 'more', 'than', 'that', 'under', 'the', 'wounded', 'pride', 'will', 'could', 'sense', 'something', 'else', 'in', 'the', 'older', 'man', 'you', 'could', 'taste', 'it', 'nervous', 'tension', 'that', 'came', 'perilous', 'close', 'to', 'fear'], ['will', 'shared', 'his', 'unease', 'he', 'had', 'been', 'four', 'years', 'on', 'the', 'wall', 'the', 'first', 'time', 'he', 'had', 'been', 'sent', 'beyond', 'all', 'the', 'old', 'stories', 'had', 'come', 'rushing', 'back', 'and', 'his', 'bowels', 'had', 'turned', 'to', 'water', 'he', 'had', 'laughed', 'about', 'it', 'afterward', 'he', 'was', 'veteran', 'of', 'hundred', 'rangings', 'by', 'now', 'and', 'the', 'endless', 'dark', 'wilderness', 'that', 'the', 'southron', 'called', 'the', 'haunted', 'forest', 'had', 'no', 'more', 'terrors', 'for', 'him'], ['until', 'tonight', 'something', 'was', 'different', 'tonight', 'there', 'was', 'an', 'edge', 'to', 'this', 'darkness', 'that', 'made', 'his', 'hackles', 'rise', 'nine', 'days', 'they', 'had', 'been', 'riding', 'north', 'and', 'northwest', 'and', 'then', 'north', 'again', 'farther', 'and', 'farther', 'from', 'the', 'wall', 'hard', 'on', 'the', 'track', 'of', 'band', 'of', 'wildling', 'raiders', 'each', 'day', 'had', 'been', 'worse', 'than', 'the', 'day', 'that', 'had', 'come', 'before', 'it', 'today', 'was', 'the', 'worst', 'of', 'all', 'cold', 'wind', 'was', 'blowing', 'out', 'of', 'the', 'north', 'and', 'it', 'made', 'the', 'trees', 'rustle', 'like', 'living', 'things', 'all', 'day', 'will', 'had', 'felt', 'as', 'though', 'something', 'were', 'watching', 'him', 'something', 'cold', 'and', 'implacable', 'that', 'loved', 'him', 'not', 'gared', 'had', 'felt', 'it', 'too', 'will', 'wanted', 'nothing', 'so', 'much', 'as', 'to', 'ride', 'hellbent', 'for', 'the', 'safety', 'of', 'the', 'wall', 'but', 'that', 'was', 'not', 'feeling', 'to', 'share', 'with', 'your', 'commander'], ['especially', 'not', 'commander', 'like', 'this', 'one'], ['ser', 'waymar', 'royce', 'was', 'the', 'youngest', 'son', 'of', 'an', 'ancient', 'house', 'with', 'too', 'many', 'heirs', 'he', 'was', 'handsome', 'youth', 'of', 'eighteen', 'grey', 'eyed', 'and', 'graceful', 'and', 'slender', 'as', 'knife', 'mounted', 'on', 'his', 'huge', 'black', 'destrier', 'the', 'knight', 'towered', 'above', 'will', 'and', 'gared', 'on', 'their', 'smaller', 'garrons', 'he', 'wore', 'black', 'leather', 'boots', 'black', 'woolen', 'pants', 'black', 'moleskin', 'gloves', 'and', 'fine', 'supple', 'coat', 'of', 'gleaming', 'black', 'ringmail', 'over', 'layers', 'of', 'black', 'wool', 'and', 'boiled', 'leather', 'ser', 'waymar', 'had', 'been', 'sworn', 'brother', 'of', 'the', 'night', 'watch', 'for', 'less', 'than', 'half', 'year', 'but', 'no', 'one', 'could', 'say', 'he', 'had', 'not', 'prepared', 'for', 'his', 'vocation', 'at', 'least', 'insofar', 'as', 'his', 'wardrobe', 'was', 'concerned'], ['his', 'cloak', 'was', 'his', 'crowning', 'glory', 'sable', 'thick', 'and', 'black', 'and', 'soft', 'as', 'sin', 'bet', 'he', 'killed', 'them', 'all', 'himself', 'he', 'did', 'gared', 'told', 'the', 'barracks', 'over', 'wine', 'twisted', 'their', 'little', 'heads', 'off', 'our', 'mighty', 'warrior', 'they', 'had', 'all', 'shared', 'the', 'laugh']]\n"
     ]
    }
   ],
   "source": [
    "print(sentences[0:15])"
   ]
  },
  {
   "cell_type": "markdown",
   "metadata": {
    "colab_type": "text",
    "id": "fDq8VRzAGOvQ"
   },
   "source": [
    "##### Training the Word2Vec model\n",
    "\n",
    "Instantiate Word2Vec and pass the data, a list (sentences) of lists (tokens) for a complete corpus. Word2Vec uses all these tokens to internally create a vocabulary."
   ]
  },
  {
   "cell_type": "code",
   "execution_count": 0,
   "metadata": {
    "colab": {
     "base_uri": "https://localhost:8080/",
     "height": 52
    },
    "colab_type": "code",
    "id": "4_WACjZUGOvY",
    "outputId": "67954636-3576-40e7-d5e1-2e077de2cd0b"
   },
   "outputs": [
    {
     "name": "stderr",
     "output_type": "stream",
     "text": [
      "W0821 15:35:48.727262 139628890621824 base_any2vec.py:1182] Effective 'alpha' higher than previous training cycles\n"
     ]
    },
    {
     "data": {
      "text/plain": [
       "(15219163, 20214880)"
      ]
     },
     "execution_count": 72,
     "metadata": {
      "tags": []
     },
     "output_type": "execute_result"
    }
   ],
   "source": [
    "# Define a basic Word2Vec model (gensim.models.Word2Vec) with CBOW and train (model.train) it on `sentences`\n",
    "model = gensim.models.Word2Vec(sentences, size=300, window=5, min_count=3, workers=2, sg=0)\n",
    "model.train(sentences,total_examples=len(sentences),epochs=20)"
   ]
  },
  {
   "cell_type": "markdown",
   "metadata": {
    "colab_type": "text",
    "id": "aJR1soiaGOvs"
   },
   "source": [
    "### What have you trained?\n",
    "Several functions allow to explore the results. The `most_similar` function returns the top 10 similar words to a given input word. `similarity` returns the similarity between two words that are present in the vocabulary. `doesnt_match` returns the most dissimilar word with a list of words. Let's play with these functions.\n"
   ]
  },
  {
   "cell_type": "code",
   "execution_count": 0,
   "metadata": {
    "colab": {
     "base_uri": "https://localhost:8080/",
     "height": 191
    },
    "colab_type": "code",
    "id": "6jRJ0P3_GOvw",
    "outputId": "71e52d01-b0d2-4eee-c83c-3d9d6701735d"
   },
   "outputs": [
    {
     "data": {
      "text/plain": [
       "[('islands', 0.5923787355422974),\n",
       " ('chair', 0.5000112056732178),\n",
       " ('fleet', 0.46769919991493225),\n",
       " ('tommen', 0.45298463106155396),\n",
       " ('rebellion', 0.44182437658309937),\n",
       " ('emmett', 0.43945562839508057),\n",
       " ('aegon', 0.4384361803531647),\n",
       " ('council', 0.43617773056030273),\n",
       " ('rightful', 0.43021929264068604),\n",
       " ('aerys', 0.4299048185348511)]"
      ]
     },
     "execution_count": 73,
     "metadata": {
      "tags": []
     },
     "output_type": "execute_result"
    }
   ],
   "source": [
    "# Chose a word to see the 10 closest words\n",
    "w1 = \"throne\"\n",
    "model.wv.most_similar(positive=w1)\n"
   ]
  },
  {
   "cell_type": "code",
   "execution_count": 0,
   "metadata": {
    "colab": {
     "base_uri": "https://localhost:8080/",
     "height": 191
    },
    "colab_type": "code",
    "id": "KqigAJGaGOwD",
    "outputId": "42d61b2e-8272-4f79-e617-c153c96f7efa"
   },
   "outputs": [
    {
     "data": {
      "text/plain": [
       "[('baratheon', 0.49426424503326416),\n",
       " ('royal', 0.4904899597167969),\n",
       " ('realm', 0.48726966977119446),\n",
       " ('ninth', 0.4747777283191681),\n",
       " ('tourney', 0.4492291808128357),\n",
       " ('queen', 0.38735222816467285),\n",
       " ('heir', 0.37295055389404297),\n",
       " ('kingslayer', 0.3616330623626709),\n",
       " ('traitor', 0.35716545581817627),\n",
       " ('kingsguard', 0.35368072986602783)]"
      ]
     },
     "execution_count": 74,
     "metadata": {
      "tags": []
     },
     "output_type": "execute_result"
    }
   ],
   "source": [
    "w1 = \"king\"\n",
    "model.wv.most_similar(positive=w1)"
   ]
  },
  {
   "cell_type": "markdown",
   "metadata": {
    "colab_type": "text",
    "id": "5R19XPHtGOwm"
   },
   "source": [
    "What happens if the word is not in the vocabulary? We are using a tiny corpus in a specific domain..."
   ]
  },
  {
   "cell_type": "code",
   "execution_count": 0,
   "metadata": {
    "colab": {
     "base_uri": "https://localhost:8080/",
     "height": 330
    },
    "colab_type": "code",
    "id": "qOZpK1aKGOwq",
    "outputId": "aa9ee919-da5e-4594-df0f-ff016b88cf34"
   },
   "outputs": [
    {
     "ename": "KeyError",
     "evalue": "ignored",
     "output_type": "error",
     "traceback": [
      "\u001b[0;31m---------------------------------------------------------------------------\u001b[0m",
      "\u001b[0;31mKeyError\u001b[0m                                  Traceback (most recent call last)",
      "\u001b[0;32m<ipython-input-75-b85830fa77ff>\u001b[0m in \u001b[0;36m<module>\u001b[0;34m()\u001b[0m\n\u001b[1;32m      1\u001b[0m \u001b[0mw1\u001b[0m \u001b[0;34m=\u001b[0m \u001b[0;34m[\u001b[0m\u001b[0;34m\"nigeria\"\u001b[0m\u001b[0;34m]\u001b[0m\u001b[0;34m\u001b[0m\u001b[0;34m\u001b[0m\u001b[0m\n\u001b[0;32m----> 2\u001b[0;31m \u001b[0mmodel\u001b[0m\u001b[0;34m.\u001b[0m\u001b[0mwv\u001b[0m\u001b[0;34m.\u001b[0m\u001b[0mmost_similar\u001b[0m\u001b[0;34m(\u001b[0m\u001b[0mpositive\u001b[0m\u001b[0;34m=\u001b[0m\u001b[0mw1\u001b[0m\u001b[0;34m,\u001b[0m\u001b[0mtopn\u001b[0m\u001b[0;34m=\u001b[0m\u001b[0;36m6\u001b[0m\u001b[0;34m)\u001b[0m\u001b[0;34m\u001b[0m\u001b[0;34m\u001b[0m\u001b[0m\n\u001b[0m",
      "\u001b[0;32m/usr/local/lib/python3.6/dist-packages/gensim/models/keyedvectors.py\u001b[0m in \u001b[0;36mmost_similar\u001b[0;34m(self, positive, negative, topn, restrict_vocab, indexer)\u001b[0m\n\u001b[1;32m    529\u001b[0m                 \u001b[0mmean\u001b[0m\u001b[0;34m.\u001b[0m\u001b[0mappend\u001b[0m\u001b[0;34m(\u001b[0m\u001b[0mweight\u001b[0m \u001b[0;34m*\u001b[0m \u001b[0mword\u001b[0m\u001b[0;34m)\u001b[0m\u001b[0;34m\u001b[0m\u001b[0;34m\u001b[0m\u001b[0m\n\u001b[1;32m    530\u001b[0m             \u001b[0;32melse\u001b[0m\u001b[0;34m:\u001b[0m\u001b[0;34m\u001b[0m\u001b[0;34m\u001b[0m\u001b[0m\n\u001b[0;32m--> 531\u001b[0;31m                 \u001b[0mmean\u001b[0m\u001b[0;34m.\u001b[0m\u001b[0mappend\u001b[0m\u001b[0;34m(\u001b[0m\u001b[0mweight\u001b[0m \u001b[0;34m*\u001b[0m \u001b[0mself\u001b[0m\u001b[0;34m.\u001b[0m\u001b[0mword_vec\u001b[0m\u001b[0;34m(\u001b[0m\u001b[0mword\u001b[0m\u001b[0;34m,\u001b[0m \u001b[0muse_norm\u001b[0m\u001b[0;34m=\u001b[0m\u001b[0;32mTrue\u001b[0m\u001b[0;34m)\u001b[0m\u001b[0;34m)\u001b[0m\u001b[0;34m\u001b[0m\u001b[0;34m\u001b[0m\u001b[0m\n\u001b[0m\u001b[1;32m    532\u001b[0m                 \u001b[0;32mif\u001b[0m \u001b[0mword\u001b[0m \u001b[0;32min\u001b[0m \u001b[0mself\u001b[0m\u001b[0;34m.\u001b[0m\u001b[0mvocab\u001b[0m\u001b[0;34m:\u001b[0m\u001b[0;34m\u001b[0m\u001b[0;34m\u001b[0m\u001b[0m\n\u001b[1;32m    533\u001b[0m                     \u001b[0mall_words\u001b[0m\u001b[0;34m.\u001b[0m\u001b[0madd\u001b[0m\u001b[0;34m(\u001b[0m\u001b[0mself\u001b[0m\u001b[0;34m.\u001b[0m\u001b[0mvocab\u001b[0m\u001b[0;34m[\u001b[0m\u001b[0mword\u001b[0m\u001b[0;34m]\u001b[0m\u001b[0;34m.\u001b[0m\u001b[0mindex\u001b[0m\u001b[0;34m)\u001b[0m\u001b[0;34m\u001b[0m\u001b[0;34m\u001b[0m\u001b[0m\n",
      "\u001b[0;32m/usr/local/lib/python3.6/dist-packages/gensim/models/keyedvectors.py\u001b[0m in \u001b[0;36mword_vec\u001b[0;34m(self, word, use_norm)\u001b[0m\n\u001b[1;32m    450\u001b[0m             \u001b[0;32mreturn\u001b[0m \u001b[0mresult\u001b[0m\u001b[0;34m\u001b[0m\u001b[0;34m\u001b[0m\u001b[0m\n\u001b[1;32m    451\u001b[0m         \u001b[0;32melse\u001b[0m\u001b[0;34m:\u001b[0m\u001b[0;34m\u001b[0m\u001b[0;34m\u001b[0m\u001b[0m\n\u001b[0;32m--> 452\u001b[0;31m             \u001b[0;32mraise\u001b[0m \u001b[0mKeyError\u001b[0m\u001b[0;34m(\u001b[0m\u001b[0;34m\"word '%s' not in vocabulary\"\u001b[0m \u001b[0;34m%\u001b[0m \u001b[0mword\u001b[0m\u001b[0;34m)\u001b[0m\u001b[0;34m\u001b[0m\u001b[0;34m\u001b[0m\u001b[0m\n\u001b[0m\u001b[1;32m    453\u001b[0m \u001b[0;34m\u001b[0m\u001b[0m\n\u001b[1;32m    454\u001b[0m     \u001b[0;32mdef\u001b[0m \u001b[0mget_vector\u001b[0m\u001b[0;34m(\u001b[0m\u001b[0mself\u001b[0m\u001b[0;34m,\u001b[0m \u001b[0mword\u001b[0m\u001b[0;34m)\u001b[0m\u001b[0;34m:\u001b[0m\u001b[0;34m\u001b[0m\u001b[0;34m\u001b[0m\u001b[0m\n",
      "\u001b[0;31mKeyError\u001b[0m: \"word 'nigeria' not in vocabulary\""
     ]
    }
   ],
   "source": [
    "# a word that does not belong to the corpus to see the 10 closest words\n",
    "w1 = [\"nigeria\"]\n",
    "model.wv.most_similar(positive=w1,topn=6)\n"
   ]
  },
  {
   "cell_type": "code",
   "execution_count": 0,
   "metadata": {
    "colab": {
     "base_uri": "https://localhost:8080/",
     "height": 191
    },
    "colab_type": "code",
    "id": "Qv7iyogzGOxC",
    "outputId": "e98730a5-bcb4-4303-e4ec-32349fe6903b"
   },
   "outputs": [
    {
     "data": {
      "text/plain": [
       "[('furs', 0.5944297909736633),\n",
       " ('bedrobe', 0.5734661817550659),\n",
       " ('clothing', 0.5663654804229736),\n",
       " ('robe', 0.5663119554519653),\n",
       " ('blankets', 0.5603594779968262),\n",
       " ('lap', 0.5413644313812256),\n",
       " ('necklace', 0.534493625164032),\n",
       " ('bodice', 0.5278222560882568),\n",
       " ('unlaced', 0.5267327427864075),\n",
       " ('featherbed', 0.5199534296989441)]"
      ]
     },
     "execution_count": 81,
     "metadata": {
      "tags": []
     },
     "output_type": "execute_result"
    }
   ],
   "source": [
    "# get everything related to stuff on the bed\n",
    "w1 = [\"bed\",\"sheet\",\"pillow\"]\n",
    "w2 = [\"water\"]\n",
    "model.wv.most_similar(positive=w1,negative=w2,topn=10)\n",
    "#get things that are related in the provided context and provide negative examples to say what should not be considered as related "
   ]
  },
  {
   "cell_type": "code",
   "execution_count": 0,
   "metadata": {
    "colab": {
     "base_uri": "https://localhost:8080/",
     "height": 191
    },
    "colab_type": "code",
    "id": "zhnJzQbGGOxV",
    "outputId": "7fa769e2-38dd-4c22-da43-d42e208a7359"
   },
   "outputs": [
    {
     "data": {
      "text/plain": [
       "[('blankets', 0.7043177485466003),\n",
       " ('furs', 0.6696665287017822),\n",
       " ('featherbed', 0.6535866260528564),\n",
       " ('bedrobe', 0.638952910900116),\n",
       " ('tub', 0.6378033757209778),\n",
       " ('blanket', 0.6273938417434692),\n",
       " ('cushions', 0.6179920434951782),\n",
       " ('robe', 0.6061446666717529),\n",
       " ('lap', 0.6049267053604126),\n",
       " ('bunk', 0.6012842655181885)]"
      ]
     },
     "execution_count": 82,
     "metadata": {
      "tags": []
     },
     "output_type": "execute_result"
    }
   ],
   "source": [
    "model.wv.most_similar(positive=w1,topn=10)"
   ]
  },
  {
   "cell_type": "markdown",
   "metadata": {
    "colab_type": "text",
    "id": "NVgNHRi2GOxk"
   },
   "source": [
    "Calculate some similarities now"
   ]
  },
  {
   "cell_type": "code",
   "execution_count": 0,
   "metadata": {
    "colab": {
     "base_uri": "https://localhost:8080/",
     "height": 34
    },
    "colab_type": "code",
    "id": "FbanMjlzGOxo",
    "outputId": "942d8bec-6769-41fd-a4e4-94172bcc5dec"
   },
   "outputs": [
    {
     "data": {
      "text/plain": [
       "0.3873522"
      ]
     },
     "execution_count": 87,
     "metadata": {
      "tags": []
     },
     "output_type": "execute_result"
    }
   ],
   "source": [
    "# similarity between two different words\n",
    "model.wv.similarity(w1=\"king\",w2=\"queen\")"
   ]
  },
  {
   "cell_type": "code",
   "execution_count": 0,
   "metadata": {
    "colab": {
     "base_uri": "https://localhost:8080/",
     "height": 34
    },
    "colab_type": "code",
    "id": "PpeOnXH-6BnS",
    "outputId": "2f337999-0cf9-481f-b39c-25ac1a4c45f3"
   },
   "outputs": [
    {
     "data": {
      "text/plain": [
       "0.4835567"
      ]
     },
     "execution_count": 88,
     "metadata": {
      "tags": []
     },
     "output_type": "execute_result"
    }
   ],
   "source": [
    "# similarity between two different words\n",
    "model.wv.similarity(w1=\"water\",w2=\"river\")"
   ]
  },
  {
   "cell_type": "code",
   "execution_count": 0,
   "metadata": {
    "colab": {
     "base_uri": "https://localhost:8080/",
     "height": 34
    },
    "colab_type": "code",
    "id": "1qV1ajt-GOyX",
    "outputId": "ec14129e-8748-429c-eebf-2a873495d8cd"
   },
   "outputs": [
    {
     "data": {
      "text/plain": [
       "0.45746067"
      ]
     },
     "execution_count": 92,
     "metadata": {
      "tags": []
     },
     "output_type": "execute_result"
    }
   ],
   "source": [
    "# similarity between opposite words\n",
    "model.wv.similarity(w1=\"dirty\",w2=\"clean\")"
   ]
  },
  {
   "cell_type": "code",
   "execution_count": 0,
   "metadata": {
    "colab": {
     "base_uri": "https://localhost:8080/",
     "height": 34
    },
    "colab_type": "code",
    "id": "zIc_wMKiGOyC",
    "outputId": "bf684acd-4324-4920-d03c-5493364ec206"
   },
   "outputs": [
    {
     "data": {
      "text/plain": [
       "1.0"
      ]
     },
     "execution_count": 93,
     "metadata": {
      "tags": []
     },
     "output_type": "execute_result"
    }
   ],
   "source": [
    "# similarity between two identical words\n",
    "model.wv.similarity(w1=\"dirty\",w2=\"dirty\")"
   ]
  },
  {
   "cell_type": "code",
   "execution_count": 0,
   "metadata": {
    "colab": {
     "base_uri": "https://localhost:8080/",
     "height": 34
    },
    "colab_type": "code",
    "id": "BpE8SFPH6WKz",
    "outputId": "ed04f8e6-8759-4c52-83b0-58819bad33aa"
   },
   "outputs": [
    {
     "data": {
      "text/plain": [
       "0.228796"
      ]
     },
     "execution_count": 94,
     "metadata": {
      "tags": []
     },
     "output_type": "execute_result"
    }
   ],
   "source": [
    "# similarity between two unrelated words\n",
    "model.wv.similarity(w1=\"bed\",w2=\"cow\")"
   ]
  },
  {
   "cell_type": "markdown",
   "metadata": {
    "colab_type": "text",
    "id": "gxtznUsVGOyo"
   },
   "source": [
    "#### Find the odd one out\n"
   ]
  },
  {
   "cell_type": "code",
   "execution_count": 0,
   "metadata": {
    "colab": {
     "base_uri": "https://localhost:8080/",
     "height": 34
    },
    "colab_type": "code",
    "id": "Ivc745TiGOyr",
    "outputId": "8fe43434-4d75-41eb-889a-14d385a133ea"
   },
   "outputs": [
    {
     "data": {
      "text/plain": [
       "'sword'"
      ]
     },
     "execution_count": 95,
     "metadata": {
      "tags": []
     },
     "output_type": "execute_result"
    }
   ],
   "source": [
    "# Define a list of words and look for the strange word\n",
    "# Which one is the odd one out in this list?\n",
    "model.wv.doesnt_match([\"snow\",\"winter\",\"sword\"])"
   ]
  },
  {
   "cell_type": "code",
   "execution_count": 0,
   "metadata": {
    "colab": {
     "base_uri": "https://localhost:8080/",
     "height": 52
    },
    "colab_type": "code",
    "id": "Y0VEAVNWGOzD",
    "outputId": "77dc60d8-005f-49c7-f769-cbb5635564b7"
   },
   "outputs": [
    {
     "name": "stderr",
     "output_type": "stream",
     "text": [
      "W0821 16:05:06.478376 139628890621824 keyedvectors.py:892] vectors for words {'duvet'} are not present in the model, ignoring these words\n"
     ]
    },
    {
     "data": {
      "text/plain": [
       "'shower'"
      ]
     },
     "execution_count": 96,
     "metadata": {
      "tags": []
     },
     "output_type": "execute_result"
    }
   ],
   "source": [
    "# Which one is the odd one out in this list?\n",
    "model.wv.doesnt_match([\"bed\",\"pillow\",\"duvet\",\"shower\"])\n"
   ]
  },
  {
   "cell_type": "markdown",
   "metadata": {
    "colab_type": "text",
    "id": "rzdSvsbNGO1M"
   },
   "source": [
    "#### Data processing\n"
   ]
  },
  {
   "cell_type": "markdown",
   "metadata": {
    "colab_type": "text",
    "id": "_AtM23mhGO1P"
   },
   "source": [
    "Let's see what does stemming, part-of-speech tagging and lemmatisation to our corpus.\n",
    "\n",
    "### Stemming with Porter Stemmer"
   ]
  },
  {
   "cell_type": "code",
   "execution_count": 0,
   "metadata": {
    "colab": {},
    "colab_type": "code",
    "id": "qtn04YHAGO1a"
   },
   "outputs": [],
   "source": [
    "import nltk\n",
    "from nltk.tokenize import word_tokenize\n",
    "from nltk.stem import PorterStemmer\n",
    "\n",
    "# initialise the stemmer\n",
    "porterStemmer=PorterStemmer()"
   ]
  },
  {
   "cell_type": "code",
   "execution_count": 0,
   "metadata": {
    "colab": {
     "base_uri": "https://localhost:8080/",
     "height": 72
    },
    "colab_type": "code",
    "id": "WX_xmzSXGO19",
    "outputId": "8ed4c54d-0e17-40a5-e360-ae2847c42c5b"
   },
   "outputs": [
    {
     "name": "stdout",
     "output_type": "stream",
     "text": [
      "['we', 'should', 'start', 'back', 'gared', 'urged', 'as', 'the', 'woods', 'began', 'to', 'grow', 'dark', 'around', 'them', 'the', 'wildlings', 'are', 'dead']\n",
      "['we', 'should', 'start', 'back', 'gare', 'urg', 'as', 'the', 'wood', 'began', 'to', 'grow', 'dark', 'around', 'them', 'the', 'wildl', 'are', 'dead']\n"
     ]
    }
   ],
   "source": [
    "# Let's see the first sentence before and after stemming to understand what we are doing\n",
    "stemSentence=[]\n",
    "print(sentences[0])\n",
    "for word in sentences[0]:\n",
    "    stemSentence.append(porterStemmer.stem(word))\n",
    "print(stemSentence)\n",
    "    "
   ]
  },
  {
   "cell_type": "code",
   "execution_count": 0,
   "metadata": {
    "colab": {
     "base_uri": "https://localhost:8080/",
     "height": 72
    },
    "colab_type": "code",
    "id": "td_A_mdtGO2P",
    "outputId": "04391316-3c55-480f-ec4b-255ab01d01d3"
   },
   "outputs": [
    {
     "name": "stdout",
     "output_type": "stream",
     "text": [
      "['she', 'will', 'without', 'highgarden', 'the', 'lannisters', 'have', 'no', 'hope', 'of', 'keeping', 'joffrey', 'on', 'his', 'throne', 'if', 'my', 'son', 'the', 'lord', 'oaf', 'asks', 'she', 'will', 'have', 'no', 'choice', 'but', 'to', 'grant', 'his', 'request']\n",
      "['she', 'will', 'without', 'highgarden', 'the', 'lannist', 'have', 'no', 'hope', 'of', 'keep', 'joffrey', 'on', 'hi', 'throne', 'if', 'my', 'son', 'the', 'lord', 'oaf', 'ask', 'she', 'will', 'have', 'no', 'choic', 'but', 'to', 'grant', 'hi', 'request']\n"
     ]
    }
   ],
   "source": [
    "# It's OK, let's do the whole corpus\n",
    "# Stem the full corpys\n",
    "stemmedSentences=[]\n",
    "for line in sentences:\n",
    "    stemSentence=[]\n",
    "    for word in line:\n",
    "        stemSentence.append(porterStemmer.stem(word))\n",
    "    stemmedSentences.append(stemSentence)\n",
    "example=16169\n",
    "print(sentences[example])\n",
    "print(stemmedSentences[example])"
   ]
  },
  {
   "cell_type": "markdown",
   "metadata": {
    "colab_type": "text",
    "id": "pbzwoJecGO2n"
   },
   "source": [
    "### Word embeddings on the stemmed corpus"
   ]
  },
  {
   "cell_type": "code",
   "execution_count": 0,
   "metadata": {
    "colab": {
     "base_uri": "https://localhost:8080/",
     "height": 52
    },
    "colab_type": "code",
    "id": "1uavWizfGO2y",
    "outputId": "310c0fbb-a633-4738-9edf-c2a01217ed9c"
   },
   "outputs": [
    {
     "name": "stderr",
     "output_type": "stream",
     "text": [
      "W0821 16:07:31.383610 139628890621824 base_any2vec.py:1182] Effective 'alpha' higher than previous training cycles\n"
     ]
    },
    {
     "data": {
      "text/plain": [
       "(7673218, 10107440)"
      ]
     },
     "execution_count": 100,
     "metadata": {
      "tags": []
     },
     "output_type": "execute_result"
    }
   ],
   "source": [
    "# Another training with word2vec, now with stems `modelStems`\n",
    "modelStems = gensim.models.Word2Vec(stemmedSentences, size=100, window=10, min_count=2, workers=2)\n",
    "modelStems.train(stemmedSentences,total_examples=len(stemmedSentences),epochs=10)"
   ]
  },
  {
   "cell_type": "markdown",
   "metadata": {
    "colab_type": "text",
    "id": "uVtAT3BmGO23"
   },
   "source": [
    "Explore similarities in `modelStems`"
   ]
  },
  {
   "cell_type": "code",
   "execution_count": 0,
   "metadata": {
    "colab": {
     "base_uri": "https://localhost:8080/",
     "height": 191
    },
    "colab_type": "code",
    "id": "_GQUyWahGO25",
    "outputId": "3c3d8fd7-cf55-42a6-9196-f9779530e522"
   },
   "outputs": [
    {
     "data": {
      "text/plain": [
       "[('islands', 0.5923787355422974),\n",
       " ('chair', 0.5000112056732178),\n",
       " ('fleet', 0.46769919991493225),\n",
       " ('tommen', 0.45298463106155396),\n",
       " ('rebellion', 0.44182437658309937),\n",
       " ('emmett', 0.43945562839508057),\n",
       " ('aegon', 0.4384361803531647),\n",
       " ('council', 0.43617773056030273),\n",
       " ('rightful', 0.43021929264068604),\n",
       " ('aerys', 0.4299048185348511)]"
      ]
     },
     "execution_count": 101,
     "metadata": {
      "tags": []
     },
     "output_type": "execute_result"
    }
   ],
   "source": [
    "w1 = \"throne\"\n",
    "model.wv.most_similar(positive=w1)\n"
   ]
  },
  {
   "cell_type": "code",
   "execution_count": 0,
   "metadata": {
    "colab": {
     "base_uri": "https://localhost:8080/",
     "height": 191
    },
    "colab_type": "code",
    "id": "oGnXGuX8GO3C",
    "outputId": "f1ec2f73-5061-42c4-c2b7-bdf83afc8108"
   },
   "outputs": [
    {
     "data": {
      "text/plain": [
       "[('longsword', 0.7186360955238342),\n",
       " ('blade', 0.7075389623641968),\n",
       " ('steel', 0.6048089265823364),\n",
       " ('hilt', 0.5470588207244873),\n",
       " ('spear', 0.5466657876968384),\n",
       " ('dagger', 0.5421806573867798),\n",
       " ('shield', 0.5275312066078186),\n",
       " ('lanc', 0.5139392614364624),\n",
       " ('sheath', 0.49219197034835815),\n",
       " ('grip', 0.4882340729236603)]"
      ]
     },
     "execution_count": 102,
     "metadata": {
      "tags": []
     },
     "output_type": "execute_result"
    }
   ],
   "source": [
    "w1=\"sword\"\n",
    "modelStems.wv.most_similar (positive=w1)\n"
   ]
  },
  {
   "cell_type": "code",
   "execution_count": 0,
   "metadata": {
    "colab": {
     "base_uri": "https://localhost:8080/",
     "height": 191
    },
    "colab_type": "code",
    "id": "IeQl-mHf8Ngn",
    "outputId": "f6e1a03e-0f13-4355-da76-af31d7a6ed6a"
   },
   "outputs": [
    {
     "data": {
      "text/plain": [
       "[('blade', 0.6832371950149536),\n",
       " ('longsword', 0.6669293642044067),\n",
       " ('knife', 0.5412535667419434),\n",
       " ('spear', 0.4967329204082489),\n",
       " ('dagger', 0.4800403118133545),\n",
       " ('steel', 0.4737698435783386),\n",
       " ('shortsword', 0.4737125039100647),\n",
       " ('dirk', 0.46233227849006653),\n",
       " ('lance', 0.4561135172843933),\n",
       " ('needle', 0.4555854797363281)]"
      ]
     },
     "execution_count": 104,
     "metadata": {
      "tags": []
     },
     "output_type": "execute_result"
    }
   ],
   "source": [
    "model.wv.most_similar(\"sword\")"
   ]
  },
  {
   "cell_type": "markdown",
   "metadata": {
    "colab_type": "text",
    "id": "Her1o1OgGO3H"
   },
   "source": [
    "#### Lemmatisation with a WordNet lemmatiser\n",
    "\n"
   ]
  },
  {
   "cell_type": "code",
   "execution_count": 0,
   "metadata": {
    "colab": {
     "base_uri": "https://localhost:8080/",
     "height": 52
    },
    "colab_type": "code",
    "id": "mn1BKsDIGO3I",
    "outputId": "e31ab94a-a69d-4f90-f118-ea5322ef58c1"
   },
   "outputs": [
    {
     "name": "stdout",
     "output_type": "stream",
     "text": [
      "[nltk_data] Downloading package wordnet to /root/nltk_data...\n",
      "[nltk_data]   Unzipping corpora/wordnet.zip.\n"
     ]
    }
   ],
   "source": [
    "# Import the package and initialise the lemmatiser\n",
    "# We need to download Wordnet too\n",
    "from nltk.stem.wordnet import WordNetLemmatizer\n",
    "nltk.download('wordnet')\n",
    "lemmatiser = WordNetLemmatizer()\n"
   ]
  },
  {
   "cell_type": "code",
   "execution_count": 0,
   "metadata": {
    "colab": {
     "base_uri": "https://localhost:8080/",
     "height": 72
    },
    "colab_type": "code",
    "id": "uKZiTQl7GO3Q",
    "outputId": "4ab2023f-d003-4a7a-9ca9-455c3e1e6892"
   },
   "outputs": [
    {
     "name": "stdout",
     "output_type": "stream",
     "text": [
      "['we', 'should', 'start', 'back', 'gared', 'urged', 'as', 'the', 'woods', 'began', 'to', 'grow', 'dark', 'around', 'them', 'the', 'wildlings', 'are', 'dead']\n",
      "['we', 'should', 'start', 'back', 'gared', 'urged', 'a', 'the', 'wood', 'began', 'to', 'grow', 'dark', 'around', 'them', 'the', 'wildlings', 'are', 'dead']\n"
     ]
    }
   ],
   "source": [
    "# Let's see the first sentence before and after lemmatising\n",
    "lemSentence=[]\n",
    "print(sentences[0])\n",
    "for word in sentences[0]:\n",
    "    lemSentence.append(lemmatiser.lemmatize(word))\n",
    "print(lemSentence)"
   ]
  },
  {
   "cell_type": "markdown",
   "metadata": {
    "colab_type": "text",
    "id": "Exv4fzMmGO3U"
   },
   "source": [
    "Are you happy with that? The `lemmatize(word)` function also allow to include information about the PoS of the word `lemmatize(word, PoS)`. Let's us it!"
   ]
  },
  {
   "cell_type": "code",
   "execution_count": 0,
   "metadata": {
    "colab": {
     "base_uri": "https://localhost:8080/",
     "height": 52
    },
    "colab_type": "code",
    "id": "MP8E3GT680J-",
    "outputId": "9e96931f-b6f4-465b-df31-15c3fba3a138"
   },
   "outputs": [
    {
     "name": "stdout",
     "output_type": "stream",
     "text": [
      "Requirement already satisfied: nltk in /usr/local/lib/python3.6/dist-packages (3.2.5)\n",
      "Requirement already satisfied: six in /usr/local/lib/python3.6/dist-packages (from nltk) (1.12.0)\n"
     ]
    }
   ],
   "source": [
    "!pip install nltk"
   ]
  },
  {
   "cell_type": "code",
   "execution_count": 0,
   "metadata": {
    "colab": {
     "base_uri": "https://localhost:8080/",
     "height": 86
    },
    "colab_type": "code",
    "id": "iL_ReKHl8-Ai",
    "outputId": "e2cdad13-29e7-49dc-e2f4-8d04388b2480"
   },
   "outputs": [
    {
     "name": "stdout",
     "output_type": "stream",
     "text": [
      "[nltk_data] Downloading package averaged_perceptron_tagger to\n",
      "[nltk_data]     /root/nltk_data...\n",
      "[nltk_data]   Unzipping taggers/averaged_perceptron_tagger.zip.\n"
     ]
    },
    {
     "data": {
      "text/plain": [
       "True"
      ]
     },
     "execution_count": 110,
     "metadata": {
      "tags": []
     },
     "output_type": "execute_result"
    }
   ],
   "source": [
    "nltk.download('averaged_perceptron_tagger')"
   ]
  },
  {
   "cell_type": "code",
   "execution_count": 0,
   "metadata": {
    "colab": {
     "base_uri": "https://localhost:8080/",
     "height": 89
    },
    "colab_type": "code",
    "id": "qoqJOmdUGO3X",
    "outputId": "a95c247f-5fe8-4dfd-ae80-aaa456c80e7a"
   },
   "outputs": [
    {
     "name": "stdout",
     "output_type": "stream",
     "text": [
      "['we', 'should', 'start', 'back', 'gared', 'urged', 'as', 'the', 'woods', 'began', 'to', 'grow', 'dark', 'around', 'them', 'the', 'wildlings', 'are', 'dead']\n",
      "['n', 'n', 'n', 'r', 'v', 'v', 'n', 'n', 'n', 'v', 'n', 'n', 'n', 'n', 'n', 'n', 'n', 'v', 'a']\n",
      "['we', 'should', 'start', 'back', 'gared', 'urge', 'a', 'the', 'wood', 'begin', 'to', 'grow', 'dark', 'around', 'them', 'the', 'wildlings', 'be', 'dead']\n"
     ]
    }
   ],
   "source": [
    "# Imports needed for PoS tagging\n",
    "from nltk import pos_tag\n",
    "from nltk.corpus import wordnet\n",
    "\n",
    "# You might need to download this\n",
    "#nltk.download('averaged_perceptron_tagger')\n",
    "\n",
    "# Write a function to map PoS tag in wordnet to the first letter only\n",
    "def getWordnetPoS(word):\n",
    "    \"\"\"Map POS tag to first character lemmatize() accepts\"\"\"\n",
    "    # WordNet POS tags are only: NOUN = 'n', ADJ = 's', VERB = 'v', ADV = 'r', ADJ_SAT = 'a'\n",
    "\n",
    "    tag = nltk.pos_tag([word])[0][1][0].upper()\n",
    "    tagDict = {\"J\": wordnet.ADJ,\n",
    "                \"N\": wordnet.NOUN,\n",
    "                \"V\": wordnet.VERB,\n",
    "                \"R\": wordnet.ADV}\n",
    "\n",
    "    return tagDict.get(tag, wordnet.NOUN)\n",
    "\n",
    "# Tag with PoS the first sentence of the corpus and print it\n",
    "print(sentences[0])\n",
    "posSentence=[]\n",
    "for word in sentences[0]:\n",
    "    posSentence.append(getWordnetPoS(word))\n",
    "print(posSentence)\n",
    "\n",
    "# Lemmatise the full corpus with the information of PoS now\n",
    "lemSentence=[]\n",
    "for word in sentences[0]:\n",
    "    lemSentence.append(lemmatiser.lemmatize(word, getWordnetPoS(word)))\n",
    "print(lemSentence)"
   ]
  },
  {
   "cell_type": "code",
   "execution_count": 0,
   "metadata": {
    "colab": {
     "base_uri": "https://localhost:8080/",
     "height": 72
    },
    "colab_type": "code",
    "id": "3NvgNnnGGO3d",
    "outputId": "a4416a3f-20af-43e9-b8b3-7b63b7876126"
   },
   "outputs": [
    {
     "name": "stdout",
     "output_type": "stream",
     "text": [
      "['she', 'will', 'without', 'highgarden', 'the', 'lannisters', 'have', 'no', 'hope', 'of', 'keeping', 'joffrey', 'on', 'his', 'throne', 'if', 'my', 'son', 'the', 'lord', 'oaf', 'asks', 'she', 'will', 'have', 'no', 'choice', 'but', 'to', 'grant', 'his', 'request']\n",
      "['she', 'will', 'without', 'highgarden', 'the', 'lannisters', 'have', 'no', 'hope', 'of', 'keep', 'joffrey', 'on', 'his', 'throne', 'if', 'my', 'son', 'the', 'lord', 'oaf', 'asks', 'she', 'will', 'have', 'no', 'choice', 'but', 'to', 'grant', 'his', 'request']\n"
     ]
    }
   ],
   "source": [
    "# It's OK, let's lemmatise the whole corpus\n",
    "lemSentences=[]\n",
    "for line in sentences:\n",
    "    lemSentence=[]\n",
    "    for word in line:\n",
    "        lemSentence.append(lemmatiser.lemmatize(word, getWordnetPoS(word)))\n",
    "    lemSentences.append(lemSentence)\n",
    "print(sentences[example])\n",
    "print(lemSentences[example])\n"
   ]
  },
  {
   "cell_type": "markdown",
   "metadata": {
    "colab_type": "text",
    "id": "IgPQYPZSGO3m"
   },
   "source": [
    "### Word embeddings on the lemmatised corpus"
   ]
  },
  {
   "cell_type": "code",
   "execution_count": 0,
   "metadata": {
    "colab": {
     "base_uri": "https://localhost:8080/",
     "height": 52
    },
    "colab_type": "code",
    "id": "_-6M8otbGO3n",
    "outputId": "15129cd2-a2e6-4127-9a51-e613043e5f9a"
   },
   "outputs": [
    {
     "name": "stderr",
     "output_type": "stream",
     "text": [
      "W0821 16:16:56.560541 139628890621824 base_any2vec.py:1182] Effective 'alpha' higher than previous training cycles\n"
     ]
    },
    {
     "data": {
      "text/plain": [
       "(7457359, 10107440)"
      ]
     },
     "execution_count": 113,
     "metadata": {
      "tags": []
     },
     "output_type": "execute_result"
    }
   ],
   "source": [
    "# Another training with word2vec, now with lemmas, create the model `model Lemmas`\n",
    "modelLemmas = gensim.models.Word2Vec(lemSentences, size=100, window=10, min_count=2, workers=2)\n",
    "modelLemmas.train(lemSentences,total_examples=len(lemSentences),epochs=10)"
   ]
  },
  {
   "cell_type": "code",
   "execution_count": 0,
   "metadata": {
    "colab": {
     "base_uri": "https://localhost:8080/",
     "height": 191
    },
    "colab_type": "code",
    "id": "O1-UKi3KGO4C",
    "outputId": "c64987c8-becd-48a7-ec60-2a8a66286b63",
    "scrolled": true
   },
   "outputs": [
    {
     "data": {
      "text/plain": [
       "[('aery', 0.5870214700698853),\n",
       " ('rightful', 0.5841408967971802),\n",
       " ('conquest', 0.5741870403289795),\n",
       " ('justice', 0.5667564272880554),\n",
       " ('council', 0.5573984980583191),\n",
       " ('law', 0.5555324554443359),\n",
       " ('baelor', 0.5528932809829712),\n",
       " ('sits', 0.550967812538147),\n",
       " ('conqueror', 0.5431686639785767),\n",
       " ('rebellion', 0.542667031288147)]"
      ]
     },
     "execution_count": 114,
     "metadata": {
      "tags": []
     },
     "output_type": "execute_result"
    }
   ],
   "source": [
    "w1 = \"throne\"\n",
    "modelLemmas.wv.most_similar(positive=w1)"
   ]
  },
  {
   "cell_type": "markdown",
   "metadata": {
    "colab_type": "text",
    "id": "Ufn8tYcDGO4M"
   },
   "source": [
    "## Visualisation"
   ]
  },
  {
   "cell_type": "markdown",
   "metadata": {
    "colab_type": "text",
    "id": "j7PzIqAYGO4O"
   },
   "source": [
    "Finally, we will visualise the _n_-dimensional word embeddings by projecting them down to 2-dimensional x,y coordinate pairs. \n",
    "Several techniques exist (PCA, t-SNE, etc). We use PCA in the following (PCA class in `sklearn.decomposition`)"
   ]
  },
  {
   "cell_type": "code",
   "execution_count": 0,
   "metadata": {
    "colab": {
     "base_uri": "https://localhost:8080/",
     "height": 269
    },
    "colab_type": "code",
    "id": "krKTaZtZGO4b",
    "outputId": "43b02cb5-eb01-464b-ebb0-286bc7d2feee"
   },
   "outputs": [
    {
     "data": {
      "image/png": "[encoded data removed]",
      "text/plain": [
       "<Figure size 432x288 with 1 Axes>"
      ]
     },
     "metadata": {
      "tags": []
     },
     "output_type": "display_data"
    }
   ],
   "source": [
    "# Imports needed for the visualisation\n",
    "from sklearn.decomposition import PCA\n",
    "from matplotlib import pyplot\n",
    "%matplotlib inline\n",
    "\n",
    "# fit a 2d PCA model to the vectors\n",
    "X = modelLemmas[modelLemmas.wv.vocab]\n",
    "pca = PCA(n_components=2)\n",
    "result = pca.fit_transform(X)\n",
    "\n",
    "# create a scatter plot of the projection\n",
    "pyplot.scatter(result[:, 0], result[:, 1])\n",
    "\n",
    "# add the labels to the plot\n",
    "words = list(modelLemmas.wv.vocab)\n",
    "for i, word in enumerate(words):\n",
    "    pyplot.annotate(word, xy=(result[i, 0], result[i, 1]))\n",
    "pyplot.show()\n"
   ]
  },
  {
   "cell_type": "markdown",
   "metadata": {
    "colab_type": "text",
    "id": "m7F6fO59GO4k"
   },
   "source": [
    "Too much information. Let's select only a subset of words"
   ]
  },
  {
   "cell_type": "code",
   "execution_count": 0,
   "metadata": {
    "colab": {
     "base_uri": "https://localhost:8080/",
     "height": 269
    },
    "colab_type": "code",
    "id": "zfMQfLqMGO4m",
    "outputId": "e7fbaefc-af55-445e-f31e-067340752e50"
   },
   "outputs": [
    {
     "data": {
      "image/png": "[encoded data removed]",
      "text/plain": [
       "<Figure size 432x288 with 1 Axes>"
      ]
     },
     "metadata": {
      "tags": []
     },
     "output_type": "display_data"
    }
   ],
   "source": [
    "# Select what we wanna see ('most_similar' words to something for instance)\n",
    "setToPlot = modelLemmas.wv.most_similar(positive='throne', topn=10)\n",
    "\n",
    "# Look for the vectors for the desired words only, and store them as vectorX and vectorY\n",
    "vectorX =  []\n",
    "vectorY =  []\n",
    "words = []\n",
    "for word, sim in setToPlot:\n",
    "    i=modelLemmas.wv.vocab[word].index\n",
    "    words.append(word)\n",
    "    vectorX.append(result[i,0])\n",
    "    vectorY.append(result[i,1])\n",
    "# create the scatter plot for these words\n",
    "pyplot.scatter(vectorX, vectorY)\n",
    "\n",
    "# add the labels\n",
    "for i, word in enumerate(words):\n",
    "    pyplot.annotate(word, xy=(vectorX[i], vectorY[i]))\n",
    "pyplot.show()"
   ]
  },
  {
   "cell_type": "markdown",
   "metadata": {
    "colab_type": "text",
    "id": "BQkrV6s5GO4w"
   },
   "source": [
    "We can do many more things, but the best way to learn is parctice by yourself. "
   ]
  },
  {
   "cell_type": "markdown",
   "metadata": {
    "colab_type": "text",
    "id": "KXI0oAq9gNo7"
   },
   "source": [
    "I acknowledge and recommend the following pages:\n",
    "\n",
    "https://radimrehurek.com/gensim/utils.html\n",
    "\n",
    "https://radimrehurek.com/gensim/models/word2vec.html"
   ]
  }
 ],
 "metadata": {
  "colab": {
   "collapsed_sections": [],
   "name": "GOT_Word2Vec.ipynb",
   "provenance": [],
   "version": "0.3.2"
  },
  "kernelspec": {
   "display_name": "Python 3",
   "language": "python",
   "name": "python3"
  },
  "language_info": {
   "codemirror_mode": {
    "name": "ipython",
    "version": 3
   },
   "file_extension": ".py",
   "mimetype": "text/x-python",
   "name": "python",
   "nbconvert_exporter": "python",
   "pygments_lexer": "ipython3",
   "version": "3.7.1"
  }
 },
 "nbformat": 4,
 "nbformat_minor": 1
}
