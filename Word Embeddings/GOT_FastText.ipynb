{
 "cells": [
  {
   "cell_type": "markdown",
   "metadata": {
    "colab_type": "text",
    "id": "l4edTto3GOty"
   },
   "source": [
    "## Word Embeddings\n",
    "\n",
    "Word embeddings - training, usage and visualization\n"
   ]
  },
  {
   "cell_type": "markdown",
   "metadata": {
    "colab_type": "text",
    "id": "Si5y4FicGOt9"
   },
   "source": [
    "### Packages\n",
    "\n",
    "We will use `gensim` for word embeddings and `nltk` for some data processing tasks. Also a logger, `matplotlib` for visualisation and `sklearn` for representations."
   ]
  },
  {
   "cell_type": "code",
   "execution_count": 0,
   "metadata": {
    "colab": {},
    "colab_type": "code",
    "id": "dsGhUKMtGOuD"
   },
   "outputs": [],
   "source": [
    "# import libraries and set up logging\n",
    "import gensim \n",
    "import nltk\n",
    "import logging\n",
    "import numpy as np\n",
    "import tensorflow as tf\n",
    "import warnings\n",
    "warnings.filterwarnings(\"ignore\")\n",
    "\n",
    "logging.basicConfig(format='%(asctime)s : %(levelname)s : %(message)s', level=logging.INFO)\n"
   ]
  },
  {
   "cell_type": "markdown",
   "metadata": {
    "colab_type": "text",
    "id": "zlFW660eGOuZ"
   },
   "source": [
    "##### Dataset: Game of Thrones books\n",
    "\n",
    "The data used is five volumes of Game of Thrones downloaded from\n",
    "https://github.com/nihitx/game-of-thrones- \n",
    "\n",
    "Basic data cleaning was applied on the raw data to speed up the process."
   ]
  },
  {
   "cell_type": "code",
   "execution_count": 4,
   "metadata": {
    "colab": {
     "base_uri": "https://localhost:8080/",
     "height": 34
    },
    "colab_type": "code",
    "executionInfo": {
     "elapsed": 86566,
     "status": "ok",
     "timestamp": 1566408088201,
     "user": {
      "displayName": "Jesujoba ALABI",
      "photoUrl": "https://lh3.googleusercontent.com/a-/AAuE7mDY40RZI_Z_nn07-bQ9DbJPc1tPU7BQpTNgH_Ex=s64",
      "userId": "06669269653170229093"
     },
     "user_tz": -120
    },
    "id": "dj-HMzoXGOuf",
    "outputId": "b0a8c672-6abf-4e30-d283-953a8a1b193d"
   },
   "outputs": [
    {
     "name": "stdout",
     "output_type": "stream",
     "text": [
      "b'\"We should start back,\" Gared urged as the woods began to grow dark around them. \"The wildlings are dead.\"\\n'\n"
     ]
    }
   ],
   "source": [
    "# Open the file and print the first line\n",
    "dataFile=\"got/got.5books.clean.txt\"\n",
    "\n",
    "with open (dataFile, 'rb') as f:\n",
    "    for i,line in enumerate (f):\n",
    "        print(line)\n",
    "        break\n"
   ]
  },
  {
   "cell_type": "markdown",
   "metadata": {
    "colab_type": "text",
    "id": "yt-iUM_BGOu4"
   },
   "source": [
    "#### Read files into a list `gensim.utils.simple_preprocess(sentence)`\n",
    "\n",
    "(https://radimrehurek.com/gensim/utils.html). \n",
    "\n"
   ]
  },
  {
   "cell_type": "code",
   "execution_count": 5,
   "metadata": {
    "colab": {
     "base_uri": "https://localhost:8080/",
     "height": 54
    },
    "colab_type": "code",
    "executionInfo": {
     "elapsed": 86848,
     "status": "ok",
     "timestamp": 1566408090149,
     "user": {
      "displayName": "Jesujoba ALABI",
      "photoUrl": "https://lh3.googleusercontent.com/a-/AAuE7mDY40RZI_Z_nn07-bQ9DbJPc1tPU7BQpTNgH_Ex=s64",
      "userId": "06669269653170229093"
     },
     "user_tz": -120
    },
    "id": "EKrmSHMQGOu9",
    "outputId": "e949ed5e-b5a5-4772-d16e-218ce6c54080"
   },
   "outputs": [
    {
     "name": "stdout",
     "output_type": "stream",
     "text": [
      "['gared', 'did', 'not', 'rise', 'to', 'the', 'bait', 'he', 'was', 'an', 'old', 'man', 'past', 'fifty', 'and', 'he', 'had', 'seen', 'the', 'lordlings', 'come', 'and', 'go', 'dead', 'is', 'dead', 'he', 'said', 'we', 'have', 'no', 'business', 'with', 'the', 'dead']\n"
     ]
    }
   ],
   "source": [
    "# Write a function `readInput(inputFile)` that reads a file and applies the `simple_preprocess`\n",
    "def readInput(inputFile):\n",
    "    \"\"\"Method to read the input file\"\"\"\n",
    "    \n",
    "    logging.info(\"reading file {0}...this may take a while if the file is big\".format(inputFile))    \n",
    "    with open (inputFile, 'rb') as f:\n",
    "        for i, line in enumerate (f): \n",
    "            if (i%10000==0):\n",
    "                logging.info (\"read {0} lines\".format (i))\n",
    "            yield gensim.utils.simple_preprocess(line)\n",
    "\n",
    "# read the tokenized file into a list (sentences) of lists (tokens) named `sentences`\n",
    "sentences = list(readInput (dataFile))\n",
    "logging.info (\"Done reading data file\")  \n",
    "\n",
    "# print some examples\n",
    "print(sentences[2])"
   ]
  },
  {
   "cell_type": "code",
   "execution_count": 6,
   "metadata": {
    "colab": {
     "base_uri": "https://localhost:8080/",
     "height": 54
    },
    "colab_type": "code",
    "executionInfo": {
     "elapsed": 86183,
     "status": "ok",
     "timestamp": 1566408090156,
     "user": {
      "displayName": "Jesujoba ALABI",
      "photoUrl": "https://lh3.googleusercontent.com/a-/AAuE7mDY40RZI_Z_nn07-bQ9DbJPc1tPU7BQpTNgH_Ex=s64",
      "userId": "06669269653170229093"
     },
     "user_tz": -120
    },
    "id": "6wOjoMwNPv6n",
    "outputId": "3b2cc937-c2fd-43bf-d8b6-f4e6e491c695"
   },
   "outputs": [
    {
     "name": "stdout",
     "output_type": "stream",
     "text": [
      "[['we', 'should', 'start', 'back', 'gared', 'urged', 'as', 'the', 'woods', 'began', 'to', 'grow', 'dark', 'around', 'them', 'the', 'wildlings', 'are', 'dead'], ['do', 'the', 'dead', 'frighten', 'you', 'ser', 'waymar', 'royce', 'asked', 'with', 'just', 'the', 'hint', 'of', 'smile'], ['gared', 'did', 'not', 'rise', 'to', 'the', 'bait', 'he', 'was', 'an', 'old', 'man', 'past', 'fifty', 'and', 'he', 'had', 'seen', 'the', 'lordlings', 'come', 'and', 'go', 'dead', 'is', 'dead', 'he', 'said', 'we', 'have', 'no', 'business', 'with', 'the', 'dead'], ['are', 'they', 'dead', 'royce', 'asked', 'softly', 'what', 'proof', 'have', 'we'], ['will', 'saw', 'them', 'gared', 'said', 'if', 'he', 'says', 'they', 'are', 'dead', 'that', 'proof', 'enough', 'for', 'me'], ['will', 'had', 'known', 'they', 'would', 'drag', 'him', 'into', 'the', 'quarrel', 'sooner', 'or', 'later', 'he', 'wished', 'it', 'had', 'been', 'later', 'rather', 'than', 'sooner', 'my', 'mother', 'told', 'me', 'that', 'dead', 'men', 'sing', 'no', 'songs', 'he', 'put', 'in'], ['my', 'wet', 'nurse', 'said', 'the', 'same', 'thing', 'will', 'royce', 'replied', 'never', 'believe', 'anything', 'you', 'hear', 'at', 'woman', 'tit', 'there', 'are', 'things', 'to', 'be', 'learned', 'even', 'from', 'the', 'dead', 'his', 'voice', 'echoed', 'too', 'loud', 'in', 'the', 'twilit', 'forest'], ['we', 'have', 'long', 'ride', 'before', 'us', 'gared', 'pointed', 'out', 'eight', 'days', 'maybe', 'nine', 'and', 'night', 'is', 'falling'], ['ser', 'waymar', 'royce', 'glanced', 'at', 'the', 'sky', 'with', 'disinterest', 'it', 'does', 'that', 'every', 'day', 'about', 'this', 'time', 'are', 'you', 'unmanned', 'by', 'the', 'dark', 'gared'], ['will', 'could', 'see', 'the', 'tightness', 'around', 'gared', 'mouth', 'the', 'barely', 'suppressed', 'anger', 'in', 'his', 'eyes', 'under', 'the', 'thick', 'black', 'hood', 'of', 'his', 'cloak', 'gared', 'had', 'spent', 'forty', 'years', 'in', 'the', 'night', 'watch', 'man', 'and', 'boy', 'and', 'he', 'was', 'not', 'accustomed', 'to', 'being', 'made', 'light', 'of', 'yet', 'it', 'was', 'more', 'than', 'that', 'under', 'the', 'wounded', 'pride', 'will', 'could', 'sense', 'something', 'else', 'in', 'the', 'older', 'man', 'you', 'could', 'taste', 'it', 'nervous', 'tension', 'that', 'came', 'perilous', 'close', 'to', 'fear'], ['will', 'shared', 'his', 'unease', 'he', 'had', 'been', 'four', 'years', 'on', 'the', 'wall', 'the', 'first', 'time', 'he', 'had', 'been', 'sent', 'beyond', 'all', 'the', 'old', 'stories', 'had', 'come', 'rushing', 'back', 'and', 'his', 'bowels', 'had', 'turned', 'to', 'water', 'he', 'had', 'laughed', 'about', 'it', 'afterward', 'he', 'was', 'veteran', 'of', 'hundred', 'rangings', 'by', 'now', 'and', 'the', 'endless', 'dark', 'wilderness', 'that', 'the', 'southron', 'called', 'the', 'haunted', 'forest', 'had', 'no', 'more', 'terrors', 'for', 'him'], ['until', 'tonight', 'something', 'was', 'different', 'tonight', 'there', 'was', 'an', 'edge', 'to', 'this', 'darkness', 'that', 'made', 'his', 'hackles', 'rise', 'nine', 'days', 'they', 'had', 'been', 'riding', 'north', 'and', 'northwest', 'and', 'then', 'north', 'again', 'farther', 'and', 'farther', 'from', 'the', 'wall', 'hard', 'on', 'the', 'track', 'of', 'band', 'of', 'wildling', 'raiders', 'each', 'day', 'had', 'been', 'worse', 'than', 'the', 'day', 'that', 'had', 'come', 'before', 'it', 'today', 'was', 'the', 'worst', 'of', 'all', 'cold', 'wind', 'was', 'blowing', 'out', 'of', 'the', 'north', 'and', 'it', 'made', 'the', 'trees', 'rustle', 'like', 'living', 'things', 'all', 'day', 'will', 'had', 'felt', 'as', 'though', 'something', 'were', 'watching', 'him', 'something', 'cold', 'and', 'implacable', 'that', 'loved', 'him', 'not', 'gared', 'had', 'felt', 'it', 'too', 'will', 'wanted', 'nothing', 'so', 'much', 'as', 'to', 'ride', 'hellbent', 'for', 'the', 'safety', 'of', 'the', 'wall', 'but', 'that', 'was', 'not', 'feeling', 'to', 'share', 'with', 'your', 'commander'], ['especially', 'not', 'commander', 'like', 'this', 'one'], ['ser', 'waymar', 'royce', 'was', 'the', 'youngest', 'son', 'of', 'an', 'ancient', 'house', 'with', 'too', 'many', 'heirs', 'he', 'was', 'handsome', 'youth', 'of', 'eighteen', 'grey', 'eyed', 'and', 'graceful', 'and', 'slender', 'as', 'knife', 'mounted', 'on', 'his', 'huge', 'black', 'destrier', 'the', 'knight', 'towered', 'above', 'will', 'and', 'gared', 'on', 'their', 'smaller', 'garrons', 'he', 'wore', 'black', 'leather', 'boots', 'black', 'woolen', 'pants', 'black', 'moleskin', 'gloves', 'and', 'fine', 'supple', 'coat', 'of', 'gleaming', 'black', 'ringmail', 'over', 'layers', 'of', 'black', 'wool', 'and', 'boiled', 'leather', 'ser', 'waymar', 'had', 'been', 'sworn', 'brother', 'of', 'the', 'night', 'watch', 'for', 'less', 'than', 'half', 'year', 'but', 'no', 'one', 'could', 'say', 'he', 'had', 'not', 'prepared', 'for', 'his', 'vocation', 'at', 'least', 'insofar', 'as', 'his', 'wardrobe', 'was', 'concerned'], ['his', 'cloak', 'was', 'his', 'crowning', 'glory', 'sable', 'thick', 'and', 'black', 'and', 'soft', 'as', 'sin', 'bet', 'he', 'killed', 'them', 'all', 'himself', 'he', 'did', 'gared', 'told', 'the', 'barracks', 'over', 'wine', 'twisted', 'their', 'little', 'heads', 'off', 'our', 'mighty', 'warrior', 'they', 'had', 'all', 'shared', 'the', 'laugh']]\n"
     ]
    }
   ],
   "source": [
    "print(sentences[0:15])"
   ]
  },
  {
   "cell_type": "markdown",
   "metadata": {
    "colab_type": "text",
    "id": "fDq8VRzAGOvQ"
   },
   "source": [
    "##### Training the Word2Vec model\n",
    "\n",
    "Instantiate FastText and pass the data, a list (sentences) of lists (tokens) for a complete corpus. Word2Vec uses all these tokens to internally create a vocabulary."
   ]
  },
  {
   "cell_type": "code",
   "execution_count": 0,
   "metadata": {
    "colab": {},
    "colab_type": "code",
    "id": "wBJBPhK1NvBT"
   },
   "outputs": [],
   "source": [
    "# Define a basic FastText model (gensim.models.FastText) with Skip-gram and train (model.train) it on `sentences`\n",
    "model = gensim.models.FastText(size=300, window=10, min_count=3, workers=2, sg=1)\n",
    "model.build_vocab(sentences)\n",
    "model.train(sentences, total_examples=model.corpus_count, epochs=50)"
   ]
  },
  {
   "cell_type": "code",
   "execution_count": 67,
   "metadata": {
    "colab": {
     "base_uri": "https://localhost:8080/",
     "height": 34
    },
    "colab_type": "code",
    "executionInfo": {
     "elapsed": 527,
     "status": "ok",
     "timestamp": 1566412216051,
     "user": {
      "displayName": "Jesujoba ALABI",
      "photoUrl": "https://lh3.googleusercontent.com/a-/AAuE7mDY40RZI_Z_nn07-bQ9DbJPc1tPU7BQpTNgH_Ex=s64",
      "userId": "06669269653170229093"
     },
     "user_tz": -120
    },
    "id": "jsfjTRhYOerL",
    "outputId": "2a891ffc-0c29-4ead-abc7-9ad5e0ac6229"
   },
   "outputs": [
    {
     "data": {
      "text/plain": [
       "50"
      ]
     },
     "execution_count": 67,
     "metadata": {
      "tags": []
     },
     "output_type": "execute_result"
    }
   ],
   "source": [
    "model.epochs"
   ]
  },
  {
   "cell_type": "markdown",
   "metadata": {
    "colab_type": "text",
    "id": "aJR1soiaGOvs"
   },
   "source": [
    "### What have you trained?\n",
    "Several functions allow to explore the results. The `most_similar` function returns the top 10 similar words to a given input word. `similarity` returns the similarity between two words that are present in the vocabulary. `doesnt_match` returns the most dissimilar word with a list of words. Let's play with these functions.\n"
   ]
  },
  {
   "cell_type": "code",
   "execution_count": 68,
   "metadata": {
    "colab": {
     "base_uri": "https://localhost:8080/",
     "height": 191
    },
    "colab_type": "code",
    "executionInfo": {
     "elapsed": 577,
     "status": "ok",
     "timestamp": 1566412218704,
     "user": {
      "displayName": "Jesujoba ALABI",
      "photoUrl": "https://lh3.googleusercontent.com/a-/AAuE7mDY40RZI_Z_nn07-bQ9DbJPc1tPU7BQpTNgH_Ex=s64",
      "userId": "06669269653170229093"
     },
     "user_tz": -120
    },
    "id": "6jRJ0P3_GOvw",
    "outputId": "e460be39-c9e1-4025-c4b0-d17e63705d14"
   },
   "outputs": [
    {
     "data": {
      "text/plain": [
       "[('thrones', 0.5612598061561584),\n",
       " ('iron', 0.5444526672363281),\n",
       " ('throngs', 0.43164411187171936),\n",
       " ('barbs', 0.4189721643924713),\n",
       " ('throng', 0.381265252828598),\n",
       " ('derives', 0.3394731283187866),\n",
       " ('dynasty', 0.33811068534851074),\n",
       " ('joffrey', 0.3311784267425537),\n",
       " ('councillors', 0.3302787244319916),\n",
       " ('sits', 0.32510432600975037)]"
      ]
     },
     "execution_count": 68,
     "metadata": {
      "tags": []
     },
     "output_type": "execute_result"
    }
   ],
   "source": [
    "# Chose a word to see the 10 closest words\n",
    "w1 = \"throne\"\n",
    "model.wv.most_similar(positive=w1)\n"
   ]
  },
  {
   "cell_type": "code",
   "execution_count": 69,
   "metadata": {
    "colab": {
     "base_uri": "https://localhost:8080/",
     "height": 191
    },
    "colab_type": "code",
    "executionInfo": {
     "elapsed": 719,
     "status": "ok",
     "timestamp": 1566412222757,
     "user": {
      "displayName": "Jesujoba ALABI",
      "photoUrl": "https://lh3.googleusercontent.com/a-/AAuE7mDY40RZI_Z_nn07-bQ9DbJPc1tPU7BQpTNgH_Ex=s64",
      "userId": "06669269653170229093"
     },
     "user_tz": -120
    },
    "id": "KqigAJGaGOwD",
    "outputId": "1aaa8e1e-3c6a-4c31-de10-85fce8eb9c3f"
   },
   "outputs": [
    {
     "data": {
      "text/plain": [
       "[('landing', 0.5545320510864258),\n",
       " ('reigns', 0.3979162573814392),\n",
       " ('landings', 0.37615370750427246),\n",
       " ('norcross', 0.3737821578979492),\n",
       " ('joffrey', 0.37256884574890137),\n",
       " ('iii', 0.36442166566848755),\n",
       " ('properties', 0.3604243993759155),\n",
       " ('styling', 0.3601350784301758),\n",
       " ('robert', 0.3594052493572235),\n",
       " ('duncan', 0.3543968200683594)]"
      ]
     },
     "execution_count": 69,
     "metadata": {
      "tags": []
     },
     "output_type": "execute_result"
    }
   ],
   "source": [
    "w1 = \"king\"\n",
    "model.wv.most_similar(positive=w1)"
   ]
  },
  {
   "cell_type": "markdown",
   "metadata": {
    "colab_type": "text",
    "id": "5R19XPHtGOwm"
   },
   "source": [
    "What happens if the word is not in the vocabulary? We are using a tiny corpus in a specific domain..."
   ]
  },
  {
   "cell_type": "code",
   "execution_count": 70,
   "metadata": {
    "colab": {
     "base_uri": "https://localhost:8080/",
     "height": 121
    },
    "colab_type": "code",
    "executionInfo": {
     "elapsed": 594,
     "status": "ok",
     "timestamp": 1566412240234,
     "user": {
      "displayName": "Jesujoba ALABI",
      "photoUrl": "https://lh3.googleusercontent.com/a-/AAuE7mDY40RZI_Z_nn07-bQ9DbJPc1tPU7BQpTNgH_Ex=s64",
      "userId": "06669269653170229093"
     },
     "user_tz": -120
    },
    "id": "qOZpK1aKGOwq",
    "outputId": "723f5bbd-67d3-4715-ddd6-928be89c8fbd"
   },
   "outputs": [
    {
     "data": {
      "text/plain": [
       "[('nymeria', 0.6733304858207703),\n",
       " ('ellaria', 0.45298951864242554),\n",
       " ('tiger', 0.4476979374885559),\n",
       " ('nymeros', 0.4094993472099304),\n",
       " ('nigh', 0.3971477746963501),\n",
       " ('desmera', 0.379547119140625)]"
      ]
     },
     "execution_count": 70,
     "metadata": {
      "tags": []
     },
     "output_type": "execute_result"
    }
   ],
   "source": [
    "# a word that does not belong to the corpus to see the 10 closest words\n",
    "w1 = [\"nigeria\"]\n",
    "model.wv.most_similar(positive=w1,topn=6)\n"
   ]
  },
  {
   "cell_type": "code",
   "execution_count": 71,
   "metadata": {
    "colab": {
     "base_uri": "https://localhost:8080/",
     "height": 191
    },
    "colab_type": "code",
    "executionInfo": {
     "elapsed": 553,
     "status": "ok",
     "timestamp": 1566412242084,
     "user": {
      "displayName": "Jesujoba ALABI",
      "photoUrl": "https://lh3.googleusercontent.com/a-/AAuE7mDY40RZI_Z_nn07-bQ9DbJPc1tPU7BQpTNgH_Ex=s64",
      "userId": "06669269653170229093"
     },
     "user_tz": -120
    },
    "id": "Qv7iyogzGOxC",
    "outputId": "9562bf6f-d4e1-4058-f66b-083f4c6059a3"
   },
   "outputs": [
    {
     "data": {
      "text/plain": [
       "[('pillowed', 0.5134162902832031),\n",
       " ('pillows', 0.5068846940994263),\n",
       " ('sheets', 0.42687901854515076),\n",
       " ('canopied', 0.403844952583313),\n",
       " ('blankets', 0.39595386385917664),\n",
       " ('featherbed', 0.39369818568229675),\n",
       " ('blanket', 0.3636663258075714),\n",
       " ('sash', 0.35242193937301636),\n",
       " ('nude', 0.3496561646461487),\n",
       " ('mattress', 0.3410162329673767)]"
      ]
     },
     "execution_count": 71,
     "metadata": {
      "tags": []
     },
     "output_type": "execute_result"
    }
   ],
   "source": [
    "# get everything related to stuff on the bed\n",
    "w1 = [\"bed\",\"sheet\",\"pillow\"]\n",
    "w2 = [\"water\"]\n",
    "model.wv.most_similar(positive=w1,negative=w2,topn=10)\n",
    "#get things that are related in the provided context and provide negative examples to say what should not be considered as related "
   ]
  },
  {
   "cell_type": "code",
   "execution_count": 72,
   "metadata": {
    "colab": {
     "base_uri": "https://localhost:8080/",
     "height": 191
    },
    "colab_type": "code",
    "executionInfo": {
     "elapsed": 471,
     "status": "ok",
     "timestamp": 1566412247913,
     "user": {
      "displayName": "Jesujoba ALABI",
      "photoUrl": "https://lh3.googleusercontent.com/a-/AAuE7mDY40RZI_Z_nn07-bQ9DbJPc1tPU7BQpTNgH_Ex=s64",
      "userId": "06669269653170229093"
     },
     "user_tz": -120
    },
    "id": "zhnJzQbGGOxV",
    "outputId": "00384dfd-0e44-496e-c197-b9dcb96a5bf5"
   },
   "outputs": [
    {
     "data": {
      "text/plain": [
       "[('pillowed', 0.5860333442687988),\n",
       " ('pillows', 0.5796939134597778),\n",
       " ('sheets', 0.49943530559539795),\n",
       " ('featherbed', 0.47294992208480835),\n",
       " ('canopied', 0.46085798740386963),\n",
       " ('blanket', 0.4318619966506958),\n",
       " ('blankets', 0.43037885427474976),\n",
       " ('sash', 0.42601269483566284),\n",
       " ('mattress', 0.4130558371543884),\n",
       " ('nude', 0.41200220584869385)]"
      ]
     },
     "execution_count": 72,
     "metadata": {
      "tags": []
     },
     "output_type": "execute_result"
    }
   ],
   "source": [
    "model.wv.most_similar(positive=w1,topn=10)"
   ]
  },
  {
   "cell_type": "markdown",
   "metadata": {
    "colab_type": "text",
    "id": "NVgNHRi2GOxk"
   },
   "source": [
    "Calculate some similarities now"
   ]
  },
  {
   "cell_type": "code",
   "execution_count": 73,
   "metadata": {
    "colab": {
     "base_uri": "https://localhost:8080/",
     "height": 34
    },
    "colab_type": "code",
    "executionInfo": {
     "elapsed": 495,
     "status": "ok",
     "timestamp": 1566412251162,
     "user": {
      "displayName": "Jesujoba ALABI",
      "photoUrl": "https://lh3.googleusercontent.com/a-/AAuE7mDY40RZI_Z_nn07-bQ9DbJPc1tPU7BQpTNgH_Ex=s64",
      "userId": "06669269653170229093"
     },
     "user_tz": -120
    },
    "id": "FbanMjlzGOxo",
    "outputId": "9d8b2d37-361a-4162-9232-1d0b8e271122"
   },
   "outputs": [
    {
     "data": {
      "text/plain": [
       "0.3169219"
      ]
     },
     "execution_count": 73,
     "metadata": {
      "tags": []
     },
     "output_type": "execute_result"
    }
   ],
   "source": [
    "# similarity between two different words\n",
    "model.wv.similarity(w1=\"king\",w2=\"queen\")"
   ]
  },
  {
   "cell_type": "code",
   "execution_count": 74,
   "metadata": {
    "colab": {
     "base_uri": "https://localhost:8080/",
     "height": 34
    },
    "colab_type": "code",
    "executionInfo": {
     "elapsed": 473,
     "status": "ok",
     "timestamp": 1566412252395,
     "user": {
      "displayName": "Jesujoba ALABI",
      "photoUrl": "https://lh3.googleusercontent.com/a-/AAuE7mDY40RZI_Z_nn07-bQ9DbJPc1tPU7BQpTNgH_Ex=s64",
      "userId": "06669269653170229093"
     },
     "user_tz": -120
    },
    "id": "PpeOnXH-6BnS",
    "outputId": "59f8f3d2-b6d5-4595-f4a1-2d2d721407d7"
   },
   "outputs": [
    {
     "data": {
      "text/plain": [
       "0.3030795"
      ]
     },
     "execution_count": 74,
     "metadata": {
      "tags": []
     },
     "output_type": "execute_result"
    }
   ],
   "source": [
    "# similarity between two different words\n",
    "model.wv.similarity(w1=\"water\",w2=\"river\")"
   ]
  },
  {
   "cell_type": "code",
   "execution_count": 75,
   "metadata": {
    "colab": {
     "base_uri": "https://localhost:8080/",
     "height": 34
    },
    "colab_type": "code",
    "executionInfo": {
     "elapsed": 445,
     "status": "ok",
     "timestamp": 1566412253818,
     "user": {
      "displayName": "Jesujoba ALABI",
      "photoUrl": "https://lh3.googleusercontent.com/a-/AAuE7mDY40RZI_Z_nn07-bQ9DbJPc1tPU7BQpTNgH_Ex=s64",
      "userId": "06669269653170229093"
     },
     "user_tz": -120
    },
    "id": "1qV1ajt-GOyX",
    "outputId": "ee2ee626-2e42-4fa1-cc93-375d23cad884"
   },
   "outputs": [
    {
     "data": {
      "text/plain": [
       "0.21345134"
      ]
     },
     "execution_count": 75,
     "metadata": {
      "tags": []
     },
     "output_type": "execute_result"
    }
   ],
   "source": [
    "# similarity between opposite words\n",
    "model.wv.similarity(w1=\"dirty\",w2=\"clean\")"
   ]
  },
  {
   "cell_type": "code",
   "execution_count": 76,
   "metadata": {
    "colab": {
     "base_uri": "https://localhost:8080/",
     "height": 34
    },
    "colab_type": "code",
    "executionInfo": {
     "elapsed": 459,
     "status": "ok",
     "timestamp": 1566412255720,
     "user": {
      "displayName": "Jesujoba ALABI",
      "photoUrl": "https://lh3.googleusercontent.com/a-/AAuE7mDY40RZI_Z_nn07-bQ9DbJPc1tPU7BQpTNgH_Ex=s64",
      "userId": "06669269653170229093"
     },
     "user_tz": -120
    },
    "id": "zIc_wMKiGOyC",
    "outputId": "70cf3ed4-4064-4e90-8540-cd059834dc1b"
   },
   "outputs": [
    {
     "data": {
      "text/plain": [
       "1.0"
      ]
     },
     "execution_count": 76,
     "metadata": {
      "tags": []
     },
     "output_type": "execute_result"
    }
   ],
   "source": [
    "# similarity between two identical words\n",
    "model.wv.similarity(w1=\"dirty\",w2=\"dirty\")"
   ]
  },
  {
   "cell_type": "code",
   "execution_count": 77,
   "metadata": {
    "colab": {
     "base_uri": "https://localhost:8080/",
     "height": 34
    },
    "colab_type": "code",
    "executionInfo": {
     "elapsed": 508,
     "status": "ok",
     "timestamp": 1566412258914,
     "user": {
      "displayName": "Jesujoba ALABI",
      "photoUrl": "https://lh3.googleusercontent.com/a-/AAuE7mDY40RZI_Z_nn07-bQ9DbJPc1tPU7BQpTNgH_Ex=s64",
      "userId": "06669269653170229093"
     },
     "user_tz": -120
    },
    "id": "BpE8SFPH6WKz",
    "outputId": "ab0a2638-e926-4bfc-aeff-c301775cc026"
   },
   "outputs": [
    {
     "data": {
      "text/plain": [
       "0.20457818"
      ]
     },
     "execution_count": 77,
     "metadata": {
      "tags": []
     },
     "output_type": "execute_result"
    }
   ],
   "source": [
    "# similarity between two unrelated words\n",
    "model.wv.similarity(w1=\"bed\",w2=\"cow\")"
   ]
  },
  {
   "cell_type": "markdown",
   "metadata": {
    "colab_type": "text",
    "id": "gxtznUsVGOyo"
   },
   "source": [
    "#### Find the odd one out\n"
   ]
  },
  {
   "cell_type": "code",
   "execution_count": 78,
   "metadata": {
    "colab": {
     "base_uri": "https://localhost:8080/",
     "height": 34
    },
    "colab_type": "code",
    "executionInfo": {
     "elapsed": 475,
     "status": "ok",
     "timestamp": 1566412262876,
     "user": {
      "displayName": "Jesujoba ALABI",
      "photoUrl": "https://lh3.googleusercontent.com/a-/AAuE7mDY40RZI_Z_nn07-bQ9DbJPc1tPU7BQpTNgH_Ex=s64",
      "userId": "06669269653170229093"
     },
     "user_tz": -120
    },
    "id": "Ivc745TiGOyr",
    "outputId": "461423d6-0771-424d-e7d0-9a3b635126d0"
   },
   "outputs": [
    {
     "data": {
      "text/plain": [
       "'sword'"
      ]
     },
     "execution_count": 78,
     "metadata": {
      "tags": []
     },
     "output_type": "execute_result"
    }
   ],
   "source": [
    "# Define a list of words and look for the strange word\n",
    "# Which one is the odd one out in this list?\n",
    "model.wv.doesnt_match([\"snow\",\"winter\",\"sword\"])"
   ]
  },
  {
   "cell_type": "code",
   "execution_count": 79,
   "metadata": {
    "colab": {
     "base_uri": "https://localhost:8080/",
     "height": 34
    },
    "colab_type": "code",
    "executionInfo": {
     "elapsed": 543,
     "status": "ok",
     "timestamp": 1566412265543,
     "user": {
      "displayName": "Jesujoba ALABI",
      "photoUrl": "https://lh3.googleusercontent.com/a-/AAuE7mDY40RZI_Z_nn07-bQ9DbJPc1tPU7BQpTNgH_Ex=s64",
      "userId": "06669269653170229093"
     },
     "user_tz": -120
    },
    "id": "Y0VEAVNWGOzD",
    "outputId": "aa65021e-c020-4eda-d074-905ae05793ef"
   },
   "outputs": [
    {
     "data": {
      "text/plain": [
       "'duvet'"
      ]
     },
     "execution_count": 79,
     "metadata": {
      "tags": []
     },
     "output_type": "execute_result"
    }
   ],
   "source": [
    "# Which one is the odd one out in this list?\n",
    "model.wv.doesnt_match([\"bed\",\"pillow\",\"duvet\",\"shower\"])\n"
   ]
  },
  {
   "cell_type": "markdown",
   "metadata": {
    "colab_type": "text",
    "id": "rzdSvsbNGO1M"
   },
   "source": [
    "#### Data processing\n"
   ]
  },
  {
   "cell_type": "markdown",
   "metadata": {
    "colab_type": "text",
    "id": "_AtM23mhGO1P"
   },
   "source": [
    "Let's see what does stemming, part-of-speech tagging and lemmatisation to our corpus.\n",
    "\n",
    "### Stemming with Porter Stemmer"
   ]
  },
  {
   "cell_type": "code",
   "execution_count": 0,
   "metadata": {
    "colab": {},
    "colab_type": "code",
    "id": "qtn04YHAGO1a"
   },
   "outputs": [],
   "source": [
    "import nltk\n",
    "from nltk.tokenize import word_tokenize\n",
    "from nltk.stem import PorterStemmer\n",
    "\n",
    "# initialise the stemmer\n",
    "porterStemmer=PorterStemmer()"
   ]
  },
  {
   "cell_type": "code",
   "execution_count": 81,
   "metadata": {
    "colab": {
     "base_uri": "https://localhost:8080/",
     "height": 72
    },
    "colab_type": "code",
    "executionInfo": {
     "elapsed": 548,
     "status": "ok",
     "timestamp": 1566412269998,
     "user": {
      "displayName": "Jesujoba ALABI",
      "photoUrl": "https://lh3.googleusercontent.com/a-/AAuE7mDY40RZI_Z_nn07-bQ9DbJPc1tPU7BQpTNgH_Ex=s64",
      "userId": "06669269653170229093"
     },
     "user_tz": -120
    },
    "id": "WX_xmzSXGO19",
    "outputId": "edf6b42b-b152-4eee-f0fc-fda6b293b396"
   },
   "outputs": [
    {
     "name": "stdout",
     "output_type": "stream",
     "text": [
      "['we', 'should', 'start', 'back', 'gared', 'urged', 'as', 'the', 'woods', 'began', 'to', 'grow', 'dark', 'around', 'them', 'the', 'wildlings', 'are', 'dead']\n",
      "['we', 'should', 'start', 'back', 'gare', 'urg', 'as', 'the', 'wood', 'began', 'to', 'grow', 'dark', 'around', 'them', 'the', 'wildl', 'are', 'dead']\n"
     ]
    }
   ],
   "source": [
    "# Let's see the first sentence before and after stemming to understand what we are doing\n",
    "stemSentence=[]\n",
    "print(sentences[0])\n",
    "for word in sentences[0]:\n",
    "    stemSentence.append(porterStemmer.stem(word))\n",
    "print(stemSentence)\n",
    "    "
   ]
  },
  {
   "cell_type": "code",
   "execution_count": 82,
   "metadata": {
    "colab": {
     "base_uri": "https://localhost:8080/",
     "height": 72
    },
    "colab_type": "code",
    "executionInfo": {
     "elapsed": 21699,
     "status": "ok",
     "timestamp": 1566412292328,
     "user": {
      "displayName": "Jesujoba ALABI",
      "photoUrl": "https://lh3.googleusercontent.com/a-/AAuE7mDY40RZI_Z_nn07-bQ9DbJPc1tPU7BQpTNgH_Ex=s64",
      "userId": "06669269653170229093"
     },
     "user_tz": -120
    },
    "id": "td_A_mdtGO2P",
    "outputId": "f3ef3e49-1749-4512-8fe6-12162f80858e"
   },
   "outputs": [
    {
     "name": "stdout",
     "output_type": "stream",
     "text": [
      "['she', 'will', 'without', 'highgarden', 'the', 'lannisters', 'have', 'no', 'hope', 'of', 'keeping', 'joffrey', 'on', 'his', 'throne', 'if', 'my', 'son', 'the', 'lord', 'oaf', 'asks', 'she', 'will', 'have', 'no', 'choice', 'but', 'to', 'grant', 'his', 'request']\n",
      "['she', 'will', 'without', 'highgarden', 'the', 'lannist', 'have', 'no', 'hope', 'of', 'keep', 'joffrey', 'on', 'hi', 'throne', 'if', 'my', 'son', 'the', 'lord', 'oaf', 'ask', 'she', 'will', 'have', 'no', 'choic', 'but', 'to', 'grant', 'hi', 'request']\n"
     ]
    }
   ],
   "source": [
    "# It's OK, let's do the whole corpus\n",
    "# Stem the full corpys\n",
    "stemmedSentences=[]\n",
    "for line in sentences:\n",
    "    stemSentence=[]\n",
    "    for word in line:\n",
    "        stemSentence.append(porterStemmer.stem(word))\n",
    "    stemmedSentences.append(stemSentence)\n",
    "example=16169\n",
    "print(sentences[example])\n",
    "print(stemmedSentences[example])"
   ]
  },
  {
   "cell_type": "markdown",
   "metadata": {
    "colab_type": "text",
    "id": "pbzwoJecGO2n"
   },
   "source": [
    "### Word embeddings on the stemmed corpus"
   ]
  },
  {
   "cell_type": "code",
   "execution_count": 0,
   "metadata": {
    "colab": {},
    "colab_type": "code",
    "id": "1uavWizfGO2y"
   },
   "outputs": [],
   "source": [
    "# Another training with FastText, now with stems `modelStems`\n",
    "modelStems = gensim.models.FastText(size=300, window=10, min_count=3, workers=2, sg=1)\n",
    "modelStems.build_vocab(stemmedSentences)\n",
    "modelStems.train(stemmedSentences, total_examples=modelStems.corpus_count, epochs=50)"
   ]
  },
  {
   "cell_type": "markdown",
   "metadata": {
    "colab_type": "text",
    "id": "uVtAT3BmGO23"
   },
   "source": [
    "Explore similarities in `modelStems`"
   ]
  },
  {
   "cell_type": "code",
   "execution_count": 85,
   "metadata": {
    "colab": {
     "base_uri": "https://localhost:8080/",
     "height": 191
    },
    "colab_type": "code",
    "executionInfo": {
     "elapsed": 748426,
     "status": "ok",
     "timestamp": 1566413049727,
     "user": {
      "displayName": "Jesujoba ALABI",
      "photoUrl": "https://lh3.googleusercontent.com/a-/AAuE7mDY40RZI_Z_nn07-bQ9DbJPc1tPU7BQpTNgH_Ex=s64",
      "userId": "06669269653170229093"
     },
     "user_tz": -120
    },
    "id": "_GQUyWahGO25",
    "outputId": "efeb0660-4fa5-4d39-ffb4-59a9ca4e57a3"
   },
   "outputs": [
    {
     "data": {
      "text/plain": [
       "[('thrones', 0.5612598061561584),\n",
       " ('iron', 0.5444526672363281),\n",
       " ('throngs', 0.43164411187171936),\n",
       " ('barbs', 0.4189721643924713),\n",
       " ('throng', 0.381265252828598),\n",
       " ('derives', 0.3394731283187866),\n",
       " ('dynasty', 0.33811068534851074),\n",
       " ('joffrey', 0.3311784267425537),\n",
       " ('councillors', 0.3302787244319916),\n",
       " ('sits', 0.32510432600975037)]"
      ]
     },
     "execution_count": 85,
     "metadata": {
      "tags": []
     },
     "output_type": "execute_result"
    }
   ],
   "source": [
    "w1 = \"throne\"\n",
    "model.wv.most_similar(positive=w1)\n"
   ]
  },
  {
   "cell_type": "code",
   "execution_count": 86,
   "metadata": {
    "colab": {
     "base_uri": "https://localhost:8080/",
     "height": 191
    },
    "colab_type": "code",
    "executionInfo": {
     "elapsed": 747417,
     "status": "ok",
     "timestamp": 1566413049733,
     "user": {
      "displayName": "Jesujoba ALABI",
      "photoUrl": "https://lh3.googleusercontent.com/a-/AAuE7mDY40RZI_Z_nn07-bQ9DbJPc1tPU7BQpTNgH_Ex=s64",
      "userId": "06669269653170229093"
     },
     "user_tz": -120
    },
    "id": "oGnXGuX8GO3C",
    "outputId": "023a116b-fc49-4686-8bdd-fd1f654fa4f3"
   },
   "outputs": [
    {
     "data": {
      "text/plain": [
       "[('blade', 0.4977814555168152),\n",
       " ('longsword', 0.48358970880508423),\n",
       " ('shortsword', 0.45538997650146484),\n",
       " ('unsheath', 0.405608594417572),\n",
       " ('steel', 0.3960208296775818),\n",
       " ('hilt', 0.3850322961807251),\n",
       " ('whetston', 0.37219691276550293),\n",
       " ('sheath', 0.3621333837509155),\n",
       " ('swordpoint', 0.3483949899673462),\n",
       " ('swordfight', 0.34485164284706116)]"
      ]
     },
     "execution_count": 86,
     "metadata": {
      "tags": []
     },
     "output_type": "execute_result"
    }
   ],
   "source": [
    "w1=\"sword\"\n",
    "modelStems.wv.most_similar (positive=w1)\n"
   ]
  },
  {
   "cell_type": "code",
   "execution_count": 87,
   "metadata": {
    "colab": {
     "base_uri": "https://localhost:8080/",
     "height": 191
    },
    "colab_type": "code",
    "executionInfo": {
     "elapsed": 745453,
     "status": "ok",
     "timestamp": 1566413049737,
     "user": {
      "displayName": "Jesujoba ALABI",
      "photoUrl": "https://lh3.googleusercontent.com/a-/AAuE7mDY40RZI_Z_nn07-bQ9DbJPc1tPU7BQpTNgH_Ex=s64",
      "userId": "06669269653170229093"
     },
     "user_tz": -120
    },
    "id": "IeQl-mHf8Ngn",
    "outputId": "bc365b49-f5a3-4a39-db21-b60efca3017f"
   },
   "outputs": [
    {
     "data": {
      "text/plain": [
       "[('shortsword', 0.488616406917572),\n",
       " ('blade', 0.4822026491165161),\n",
       " ('hilt', 0.45454803109169006),\n",
       " ('longsword', 0.4404366612434387),\n",
       " ('swordfight', 0.4395459294319153),\n",
       " ('scabbard', 0.4325196146965027),\n",
       " ('swordpoint', 0.4133822023868561),\n",
       " ('swordsman', 0.4033955931663513),\n",
       " ('greatsword', 0.3971710503101349),\n",
       " ('sheathe', 0.3900507986545563)]"
      ]
     },
     "execution_count": 87,
     "metadata": {
      "tags": []
     },
     "output_type": "execute_result"
    }
   ],
   "source": [
    "model.wv.most_similar(\"sword\")"
   ]
  },
  {
   "cell_type": "markdown",
   "metadata": {
    "colab_type": "text",
    "id": "Her1o1OgGO3H"
   },
   "source": [
    "#### Lemmatisation with a WordNet lemmatiser\n",
    "\n"
   ]
  },
  {
   "cell_type": "code",
   "execution_count": 88,
   "metadata": {
    "colab": {
     "base_uri": "https://localhost:8080/",
     "height": 52
    },
    "colab_type": "code",
    "executionInfo": {
     "elapsed": 742921,
     "status": "ok",
     "timestamp": 1566413049741,
     "user": {
      "displayName": "Jesujoba ALABI",
      "photoUrl": "https://lh3.googleusercontent.com/a-/AAuE7mDY40RZI_Z_nn07-bQ9DbJPc1tPU7BQpTNgH_Ex=s64",
      "userId": "06669269653170229093"
     },
     "user_tz": -120
    },
    "id": "mn1BKsDIGO3I",
    "outputId": "37692449-2a48-4b5e-cd25-a84e1d938840"
   },
   "outputs": [
    {
     "name": "stdout",
     "output_type": "stream",
     "text": [
      "[nltk_data] Downloading package wordnet to /root/nltk_data...\n",
      "[nltk_data]   Package wordnet is already up-to-date!\n"
     ]
    }
   ],
   "source": [
    "# Import the package and initialise the lemmatiser\n",
    "# We need to download Wordnet too\n",
    "from nltk.stem.wordnet import WordNetLemmatizer\n",
    "nltk.download('wordnet')\n",
    "lemmatiser = WordNetLemmatizer()\n"
   ]
  },
  {
   "cell_type": "code",
   "execution_count": 89,
   "metadata": {
    "colab": {
     "base_uri": "https://localhost:8080/",
     "height": 72
    },
    "colab_type": "code",
    "executionInfo": {
     "elapsed": 741183,
     "status": "ok",
     "timestamp": 1566413050014,
     "user": {
      "displayName": "Jesujoba ALABI",
      "photoUrl": "https://lh3.googleusercontent.com/a-/AAuE7mDY40RZI_Z_nn07-bQ9DbJPc1tPU7BQpTNgH_Ex=s64",
      "userId": "06669269653170229093"
     },
     "user_tz": -120
    },
    "id": "uKZiTQl7GO3Q",
    "outputId": "6d00c0df-ed1a-418c-d31e-778eb9931cf8"
   },
   "outputs": [
    {
     "name": "stdout",
     "output_type": "stream",
     "text": [
      "['we', 'should', 'start', 'back', 'gared', 'urged', 'as', 'the', 'woods', 'began', 'to', 'grow', 'dark', 'around', 'them', 'the', 'wildlings', 'are', 'dead']\n",
      "['we', 'should', 'start', 'back', 'gared', 'urged', 'a', 'the', 'wood', 'began', 'to', 'grow', 'dark', 'around', 'them', 'the', 'wildlings', 'are', 'dead']\n"
     ]
    }
   ],
   "source": [
    "# Let's see the first sentence before and after lemmatising\n",
    "lemSentence=[]\n",
    "print(sentences[0])\n",
    "for word in sentences[0]:\n",
    "    lemSentence.append(lemmatiser.lemmatize(word))\n",
    "print(lemSentence)"
   ]
  },
  {
   "cell_type": "markdown",
   "metadata": {
    "colab_type": "text",
    "id": "Exv4fzMmGO3U"
   },
   "source": [
    "Are you happy with that? The `lemmatize(word)` function also allow to include information about the PoS of the word `lemmatize(word, PoS)`. Let's us it!"
   ]
  },
  {
   "cell_type": "code",
   "execution_count": 90,
   "metadata": {
    "colab": {
     "base_uri": "https://localhost:8080/",
     "height": 52
    },
    "colab_type": "code",
    "executionInfo": {
     "elapsed": 739407,
     "status": "ok",
     "timestamp": 1566413053190,
     "user": {
      "displayName": "Jesujoba ALABI",
      "photoUrl": "https://lh3.googleusercontent.com/a-/AAuE7mDY40RZI_Z_nn07-bQ9DbJPc1tPU7BQpTNgH_Ex=s64",
      "userId": "06669269653170229093"
     },
     "user_tz": -120
    },
    "id": "MP8E3GT680J-",
    "outputId": "d665ab17-099e-41af-d25d-3fa00c8e5854"
   },
   "outputs": [
    {
     "name": "stdout",
     "output_type": "stream",
     "text": [
      "Requirement already satisfied: nltk in /usr/local/lib/python3.6/dist-packages (3.2.5)\n",
      "Requirement already satisfied: six in /usr/local/lib/python3.6/dist-packages (from nltk) (1.12.0)\n"
     ]
    }
   ],
   "source": [
    "!pip install nltk"
   ]
  },
  {
   "cell_type": "code",
   "execution_count": 91,
   "metadata": {
    "colab": {
     "base_uri": "https://localhost:8080/",
     "height": 104
    },
    "colab_type": "code",
    "executionInfo": {
     "elapsed": 736239,
     "status": "ok",
     "timestamp": 1566413053194,
     "user": {
      "displayName": "Jesujoba ALABI",
      "photoUrl": "https://lh3.googleusercontent.com/a-/AAuE7mDY40RZI_Z_nn07-bQ9DbJPc1tPU7BQpTNgH_Ex=s64",
      "userId": "06669269653170229093"
     },
     "user_tz": -120
    },
    "id": "iL_ReKHl8-Ai",
    "outputId": "58eec7f2-eb49-416a-b445-a33e1c3b81b8"
   },
   "outputs": [
    {
     "name": "stdout",
     "output_type": "stream",
     "text": [
      "[nltk_data] Downloading package averaged_perceptron_tagger to\n",
      "[nltk_data]     /root/nltk_data...\n",
      "[nltk_data]   Package averaged_perceptron_tagger is already up-to-\n",
      "[nltk_data]       date!\n"
     ]
    },
    {
     "data": {
      "text/plain": [
       "True"
      ]
     },
     "execution_count": 91,
     "metadata": {
      "tags": []
     },
     "output_type": "execute_result"
    }
   ],
   "source": [
    "nltk.download('averaged_perceptron_tagger')"
   ]
  },
  {
   "cell_type": "code",
   "execution_count": 92,
   "metadata": {
    "colab": {
     "base_uri": "https://localhost:8080/",
     "height": 89
    },
    "colab_type": "code",
    "executionInfo": {
     "elapsed": 731516,
     "status": "ok",
     "timestamp": 1566413053196,
     "user": {
      "displayName": "Jesujoba ALABI",
      "photoUrl": "https://lh3.googleusercontent.com/a-/AAuE7mDY40RZI_Z_nn07-bQ9DbJPc1tPU7BQpTNgH_Ex=s64",
      "userId": "06669269653170229093"
     },
     "user_tz": -120
    },
    "id": "qoqJOmdUGO3X",
    "outputId": "e4aa5b43-e728-4b87-94ad-d2a62e96d551"
   },
   "outputs": [
    {
     "name": "stdout",
     "output_type": "stream",
     "text": [
      "['we', 'should', 'start', 'back', 'gared', 'urged', 'as', 'the', 'woods', 'began', 'to', 'grow', 'dark', 'around', 'them', 'the', 'wildlings', 'are', 'dead']\n",
      "['n', 'n', 'n', 'r', 'v', 'v', 'n', 'n', 'n', 'v', 'n', 'n', 'n', 'n', 'n', 'n', 'n', 'v', 'a']\n",
      "['we', 'should', 'start', 'back', 'gared', 'urge', 'a', 'the', 'wood', 'begin', 'to', 'grow', 'dark', 'around', 'them', 'the', 'wildlings', 'be', 'dead']\n"
     ]
    }
   ],
   "source": [
    "# Imports needed for PoS tagging\n",
    "from nltk import pos_tag\n",
    "from nltk.corpus import wordnet\n",
    "\n",
    "# You might need to download this\n",
    "#nltk.download('averaged_perceptron_tagger')\n",
    "\n",
    "# Write a function to map PoS tag in wordnet to the first letter only\n",
    "def getWordnetPoS(word):\n",
    "    \"\"\"Map POS tag to first character lemmatize() accepts\"\"\"\n",
    "    # WordNet POS tags are only: NOUN = 'n', ADJ = 's', VERB = 'v', ADV = 'r', ADJ_SAT = 'a'\n",
    "\n",
    "    tag = nltk.pos_tag([word])[0][1][0].upper()\n",
    "    tagDict = {\"J\": wordnet.ADJ,\n",
    "                \"N\": wordnet.NOUN,\n",
    "                \"V\": wordnet.VERB,\n",
    "                \"R\": wordnet.ADV}\n",
    "\n",
    "    return tagDict.get(tag, wordnet.NOUN)\n",
    "\n",
    "# Tag with PoS the first sentence of the corpus and print it\n",
    "print(sentences[0])\n",
    "posSentence=[]\n",
    "for word in sentences[0]:\n",
    "    posSentence.append(getWordnetPoS(word))\n",
    "print(posSentence)\n",
    "\n",
    "# Lemmatise the full corpus with the information of PoS now\n",
    "lemSentence=[]\n",
    "for word in sentences[0]:\n",
    "    lemSentence.append(lemmatiser.lemmatize(word, getWordnetPoS(word)))\n",
    "print(lemSentence)"
   ]
  },
  {
   "cell_type": "code",
   "execution_count": 93,
   "metadata": {
    "colab": {
     "base_uri": "https://localhost:8080/",
     "height": 72
    },
    "colab_type": "code",
    "executionInfo": {
     "elapsed": 836645,
     "status": "ok",
     "timestamp": 1566413165804,
     "user": {
      "displayName": "Jesujoba ALABI",
      "photoUrl": "https://lh3.googleusercontent.com/a-/AAuE7mDY40RZI_Z_nn07-bQ9DbJPc1tPU7BQpTNgH_Ex=s64",
      "userId": "06669269653170229093"
     },
     "user_tz": -120
    },
    "id": "3NvgNnnGGO3d",
    "outputId": "b6d0ef04-5eb8-4bf7-d2a4-5464b62f40a5"
   },
   "outputs": [
    {
     "name": "stdout",
     "output_type": "stream",
     "text": [
      "['she', 'will', 'without', 'highgarden', 'the', 'lannisters', 'have', 'no', 'hope', 'of', 'keeping', 'joffrey', 'on', 'his', 'throne', 'if', 'my', 'son', 'the', 'lord', 'oaf', 'asks', 'she', 'will', 'have', 'no', 'choice', 'but', 'to', 'grant', 'his', 'request']\n",
      "['she', 'will', 'without', 'highgarden', 'the', 'lannisters', 'have', 'no', 'hope', 'of', 'keep', 'joffrey', 'on', 'his', 'throne', 'if', 'my', 'son', 'the', 'lord', 'oaf', 'asks', 'she', 'will', 'have', 'no', 'choice', 'but', 'to', 'grant', 'his', 'request']\n"
     ]
    }
   ],
   "source": [
    "# It's OK, let's lemmatise the whole corpus\n",
    "lemSentences=[]\n",
    "for line in sentences:\n",
    "    lemSentence=[]\n",
    "    for word in line:\n",
    "        lemSentence.append(lemmatiser.lemmatize(word, getWordnetPoS(word)))\n",
    "    lemSentences.append(lemSentence)\n",
    "print(sentences[example])\n",
    "print(lemSentences[example])\n"
   ]
  },
  {
   "cell_type": "markdown",
   "metadata": {
    "colab_type": "text",
    "id": "IgPQYPZSGO3m"
   },
   "source": [
    "### Word embeddings on the lemmatised corpus"
   ]
  },
  {
   "cell_type": "code",
   "execution_count": 0,
   "metadata": {
    "colab": {},
    "colab_type": "code",
    "id": "_-6M8otbGO3n"
   },
   "outputs": [],
   "source": [
    "# Another training with word2vec, now with lemmas, create the model `model Lemmas`\n",
    "modelLemmas = gensim.models.FastText(size=300, window=10, min_count=3, workers=2, sg=1)\n",
    "modelLemmas.build_vocab(lemSentences)\n",
    "modelLemmas.train(lemSentences, total_examples=modelLemmas.corpus_count, epochs=50)"
   ]
  },
  {
   "cell_type": "code",
   "execution_count": 95,
   "metadata": {
    "colab": {
     "base_uri": "https://localhost:8080/",
     "height": 191
    },
    "colab_type": "code",
    "executionInfo": {
     "elapsed": 1573569,
     "status": "ok",
     "timestamp": 1566413910592,
     "user": {
      "displayName": "Jesujoba ALABI",
      "photoUrl": "https://lh3.googleusercontent.com/a-/AAuE7mDY40RZI_Z_nn07-bQ9DbJPc1tPU7BQpTNgH_Ex=s64",
      "userId": "06669269653170229093"
     },
     "user_tz": -120
    },
    "id": "O1-UKi3KGO4C",
    "outputId": "6099c5d3-29ac-4403-f6ad-be708e1b3ab3",
    "scrolled": true
   },
   "outputs": [
    {
     "data": {
      "text/plain": [
       "[('iron', 0.5169459581375122),\n",
       " ('drone', 0.47100308537483215),\n",
       " ('barb', 0.38114166259765625),\n",
       " ('dispense', 0.3590146601200104),\n",
       " ('throng', 0.3437856435775757),\n",
       " ('crown', 0.33927100896835327),\n",
       " ('dynasty', 0.3348790407180786),\n",
       " ('usurp', 0.32642263174057007),\n",
       " ('rightful', 0.32355496287345886),\n",
       " ('aery', 0.32148444652557373)]"
      ]
     },
     "execution_count": 95,
     "metadata": {
      "tags": []
     },
     "output_type": "execute_result"
    }
   ],
   "source": [
    "w1 = \"throne\"\n",
    "modelLemmas.wv.most_similar(positive=w1)"
   ]
  },
  {
   "cell_type": "markdown",
   "metadata": {
    "colab_type": "text",
    "id": "Ufn8tYcDGO4M"
   },
   "source": [
    "## Visualisation"
   ]
  },
  {
   "cell_type": "markdown",
   "metadata": {
    "colab_type": "text",
    "id": "j7PzIqAYGO4O"
   },
   "source": [
    "Finally, we will visualise the _n_-dimensional word embeddings by projecting them down to 2-dimensional x,y coordinate pairs. \n",
    "Several techniques exist (PCA, t-SNE, etc). We use PCA in the following (PCA class in `sklearn.decomposition`)"
   ]
  },
  {
   "cell_type": "code",
   "execution_count": 96,
   "metadata": {
    "colab": {
     "base_uri": "https://localhost:8080/",
     "height": 269
    },
    "colab_type": "code",
    "executionInfo": {
     "elapsed": 1602481,
     "status": "ok",
     "timestamp": 1566413943740,
     "user": {
      "displayName": "Jesujoba ALABI",
      "photoUrl": "https://lh3.googleusercontent.com/a-/AAuE7mDY40RZI_Z_nn07-bQ9DbJPc1tPU7BQpTNgH_Ex=s64",
      "userId": "06669269653170229093"
     },
     "user_tz": -120
    },
    "id": "krKTaZtZGO4b",
    "outputId": "45501551-05ce-48a6-b4a4-75e877b522e3"
   },
   "outputs": [
    {
     "data": {
      "image/png": "[encoded data removed]",
      "text/plain": [
       "<Figure size 432x288 with 1 Axes>"
      ]
     },
     "metadata": {
      "tags": []
     },
     "output_type": "display_data"
    }
   ],
   "source": [
    "# Imports needed for the visualisation\n",
    "from sklearn.decomposition import PCA\n",
    "from matplotlib import pyplot\n",
    "%matplotlib inline\n",
    "\n",
    "# fit a 2d PCA model to the vectors\n",
    "X = modelLemmas[modelLemmas.wv.vocab]\n",
    "pca = PCA(n_components=2)\n",
    "result = pca.fit_transform(X)\n",
    "\n",
    "# create a scatter plot of the projection\n",
    "pyplot.scatter(result[:, 0], result[:, 1])\n",
    "\n",
    "# add the labels to the plot\n",
    "words = list(modelLemmas.wv.vocab)\n",
    "for i, word in enumerate(words):\n",
    "    pyplot.annotate(word, xy=(result[i, 0], result[i, 1]))\n",
    "pyplot.show()\n"
   ]
  },
  {
   "cell_type": "markdown",
   "metadata": {
    "colab_type": "text",
    "id": "m7F6fO59GO4k"
   },
   "source": [
    "Too much information. Let's select only a subset of words"
   ]
  },
  {
   "cell_type": "code",
   "execution_count": 97,
   "metadata": {
    "colab": {
     "base_uri": "https://localhost:8080/",
     "height": 269
    },
    "colab_type": "code",
    "executionInfo": {
     "elapsed": 1600071,
     "status": "ok",
     "timestamp": 1566413943764,
     "user": {
      "displayName": "Jesujoba ALABI",
      "photoUrl": "https://lh3.googleusercontent.com/a-/AAuE7mDY40RZI_Z_nn07-bQ9DbJPc1tPU7BQpTNgH_Ex=s64",
      "userId": "06669269653170229093"
     },
     "user_tz": -120
    },
    "id": "zfMQfLqMGO4m",
    "outputId": "a5ac7e0f-6006-4417-81c1-e7b62aa28fa6"
   },
   "outputs": [
    {
     "data": {
      "image/png": "[encoded data removed]",
      "text/plain": [
       "<Figure size 432x288 with 1 Axes>"
      ]
     },
     "metadata": {
      "tags": []
     },
     "output_type": "display_data"
    }
   ],
   "source": [
    "# Select what we wanna see ('most_similar' words to something for instance)\n",
    "setToPlot = modelLemmas.wv.most_similar(positive='throne', topn=10)\n",
    "\n",
    "# Look for the vectors for the desired words only, and store them as vectorX and vectorY\n",
    "vectorX =  []\n",
    "vectorY =  []\n",
    "words = []\n",
    "for word, sim in setToPlot:\n",
    "    i=modelLemmas.wv.vocab[word].index\n",
    "    words.append(word)\n",
    "    vectorX.append(result[i,0])\n",
    "    vectorY.append(result[i,1])\n",
    "# create the scatter plot for these words\n",
    "pyplot.scatter(vectorX, vectorY)\n",
    "\n",
    "# add the labels\n",
    "for i, word in enumerate(words):\n",
    "    pyplot.annotate(word, xy=(vectorX[i], vectorY[i]))\n",
    "pyplot.show()"
   ]
  },
  {
   "cell_type": "markdown",
   "metadata": {
    "colab_type": "text",
    "id": "BQkrV6s5GO4w"
   },
   "source": [
    "We can do many more things, but the best way to learn is parctice by yourself. "
   ]
  },
  {
   "cell_type": "markdown",
   "metadata": {
    "colab_type": "text",
    "id": "KXI0oAq9gNo7"
   },
   "source": [
    "I acknowledge and recommend the following pages:\n",
    "\n",
    "https://radimrehurek.com/gensim/utils.html\n",
    "\n",
    "https://radimrehurek.com/gensim/models/fasttext.html"
   ]
  }
 ],
 "metadata": {
  "accelerator": "GPU",
  "colab": {
   "collapsed_sections": [],
   "name": "GOT_FastText.ipynb",
   "provenance": [],
   "version": "0.3.2"
  },
  "kernelspec": {
   "display_name": "Python 3",
   "language": "python",
   "name": "python3"
  },
  "language_info": {
   "codemirror_mode": {
    "name": "ipython",
    "version": 3
   },
   "file_extension": ".py",
   "mimetype": "text/x-python",
   "name": "python",
   "nbconvert_exporter": "python",
   "pygments_lexer": "ipython3",
   "version": "3.7.1"
  }
 },
 "nbformat": 4,
 "nbformat_minor": 1
}
